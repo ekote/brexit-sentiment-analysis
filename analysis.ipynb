{
 "cells": [
  {
   "cell_type": "markdown",
   "metadata": {},
   "source": [
    "# Brexit: analiza sentymentu"
   ]
  },
  {
   "cell_type": "markdown",
   "metadata": {},
   "source": [
    "Pytania do rozważenia:\n",
    "1. Czy jest związek między przynależnością do partii politycznej a sentymentem wypowiedzi?\n",
    "2. Jaki sentyment wypowiedzi jest dominujący dla głównych partii politycznych?\n",
    "3. Wypowiedzi których z polityków odstają od linii partii, do której przynależą?\n",
    "4. Jak zmieniał się sentyment w czasie?"
   ]
  },
  {
   "cell_type": "markdown",
   "metadata": {},
   "source": [
    "## 1. Pozyskanie danych"
   ]
  },
  {
   "cell_type": "markdown",
   "metadata": {},
   "source": [
    "Dane zostały pobrane ze strony: https://hansard.parliament.uk/, która zawiera zapisy debat parlamentarnych. Do pozyskania danych użyto narzędzia ParseHub (https://www.parsehub.com/), za pomocą którego z każdej debaty (do 17.01.2019 r. włącznie) wyekstrahowano wypowiedzi polityków, odnośniki do ich profili i informacje o debacie (nazwa, data). Dane o politykach, ze względu na ograniczenie liczby zapytań dla bezpłatnej wersji ParseHuba, pobrano za pomocą osobnego skryptu w języku Python, który pozwolił na znalezienie informacji o polityku (imię i nazwisko, partia polityczna) z adresu URL zawierającego jego profil:"
   ]
  },
  {
   "cell_type": "code",
   "execution_count": null,
   "metadata": {
    "collapsed": true
   },
   "outputs": [],
   "source": [
    "from bs4 import BeautifulSoup\n",
    "import requests\n",
    "import pandas as pd\n",
    "\n",
    "def getdata(url):\n",
    "    r = requests.get(url)\n",
    "    data = r.text\n",
    "    soup = BeautifulSoup(data, features = \"html.parser\")\n",
    "    h2s = soup.find(lambda elm: elm.name == \"h2\")\n",
    "    name = ''\n",
    "    party = ''\n",
    "    try:\n",
    "        for h2 in h2s:\n",
    "            name = h2.a.text.strip()\n",
    "            div = h2.find_next('div')\n",
    "            party = div.find_next('strong').text.strip()\n",
    "    except:\n",
    "        print(url)\n",
    "    return name, party\n",
    "\n",
    "df = pd.read_csv('debates.csv')\n",
    "df1 = pd.DataFrame(columns = ['url', 'name', 'party'])\n",
    "\n",
    "urls = df.debate_politician_url.unique()\n",
    "print(len(urls))\n",
    "for url in urls:\n",
    "    name, party = getdata(url)\n",
    "    row = [url, name, party]\n",
    "    print(row, len(df1))\n",
    "    df1.loc[len(df1)] = row\n",
    "df1.to_csv('names.csv', index=False)"
   ]
  },
  {
   "cell_type": "markdown",
   "metadata": {},
   "source": [
    "Dane o politykach (plik 'names.csv') złączono z danymi o debatach ('debates.csv') za pomocą osobnego skryptu, otrzymując w wyniku plik 'merged.csv':"
   ]
  },
  {
   "cell_type": "code",
   "execution_count": null,
   "metadata": {
    "collapsed": true
   },
   "outputs": [],
   "source": [
    "import pandas as pd\n",
    "\n",
    "df = pd.read_csv('debates.csv')\n",
    "df1 = pd.read_csv('names.csv')\n",
    "df = df.merge(df1, left_on='debate_politician_url', right_on='url', how='outer')\n",
    "df.to_csv('merged.csv')"
   ]
  },
  {
   "cell_type": "code",
   "execution_count": 5,
   "metadata": {
    "collapsed": false,
    "scrolled": false
   },
   "outputs": [
    {
     "data": {
      "text/html": [
       "<div>\n",
       "<style scoped>\n",
       "    .dataframe tbody tr th:only-of-type {\n",
       "        vertical-align: middle;\n",
       "    }\n",
       "\n",
       "    .dataframe tbody tr th {\n",
       "        vertical-align: top;\n",
       "    }\n",
       "\n",
       "    .dataframe thead th {\n",
       "        text-align: right;\n",
       "    }\n",
       "</style>\n",
       "<table border=\"1\" class=\"dataframe\">\n",
       "  <thead>\n",
       "    <tr style=\"text-align: right;\">\n",
       "      <th></th>\n",
       "      <th>debate_name</th>\n",
       "      <th>debate_date</th>\n",
       "      <th>speech</th>\n",
       "      <th>name</th>\n",
       "      <th>party</th>\n",
       "    </tr>\n",
       "  </thead>\n",
       "  <tbody>\n",
       "    <tr>\n",
       "      <th>11365</th>\n",
       "      <td>Farming: Impact of Brexit</td>\n",
       "      <td>21 July 2016</td>\n",
       "      <td>We know that there is great global demand for ...</td>\n",
       "      <td>Lord Gardiner of Kimble</td>\n",
       "      <td>Conservative</td>\n",
       "    </tr>\n",
       "    <tr>\n",
       "      <th>8929</th>\n",
       "      <td>Brexit: Deal or No Deal (European Union Commit...</td>\n",
       "      <td>16 January 2018</td>\n",
       "      <td>Leaving with no deal will not be a disaster, a...</td>\n",
       "      <td>Baroness Deech</td>\n",
       "      <td>Crossbench</td>\n",
       "    </tr>\n",
       "    <tr>\n",
       "      <th>6783</th>\n",
       "      <td>Brexit and the EU Budget (EUC Report)</td>\n",
       "      <td>6 April 2017</td>\n",
       "      <td>“The long-term ghastliness of the legal compli...</td>\n",
       "      <td>Lord Young of Cookham</td>\n",
       "      <td>Conservative</td>\n",
       "    </tr>\n",
       "    <tr>\n",
       "      <th>9760</th>\n",
       "      <td>Brexit: UK Nationals</td>\n",
       "      <td>9 January 2019</td>\n",
       "      <td>To ask Her Majesty’s Government what outreach ...</td>\n",
       "      <td>Baroness Miller of Chilthorne Domer</td>\n",
       "      <td>Liberal Democrat</td>\n",
       "    </tr>\n",
       "    <tr>\n",
       "      <th>11176</th>\n",
       "      <td>Brexit: Food Security</td>\n",
       "      <td>23 October 2018</td>\n",
       "      <td>I am always interested in any material the nob...</td>\n",
       "      <td>Lord Gardiner of Kimble</td>\n",
       "      <td>Conservative</td>\n",
       "    </tr>\n",
       "  </tbody>\n",
       "</table>\n",
       "</div>"
      ],
      "text/plain": [
       "                                             debate_name      debate_date  \\\n",
       "11365                          Farming: Impact of Brexit     21 July 2016   \n",
       "8929   Brexit: Deal or No Deal (European Union Commit...  16 January 2018   \n",
       "6783               Brexit and the EU Budget (EUC Report)     6 April 2017   \n",
       "9760                                Brexit: UK Nationals   9 January 2019   \n",
       "11176                              Brexit: Food Security  23 October 2018   \n",
       "\n",
       "                                                  speech  \\\n",
       "11365  We know that there is great global demand for ...   \n",
       "8929   Leaving with no deal will not be a disaster, a...   \n",
       "6783   “The long-term ghastliness of the legal compli...   \n",
       "9760   To ask Her Majesty’s Government what outreach ...   \n",
       "11176  I am always interested in any material the nob...   \n",
       "\n",
       "                                      name             party  \n",
       "11365              Lord Gardiner of Kimble      Conservative  \n",
       "8929                        Baroness Deech        Crossbench  \n",
       "6783                 Lord Young of Cookham      Conservative  \n",
       "9760   Baroness Miller of Chilthorne Domer  Liberal Democrat  \n",
       "11176              Lord Gardiner of Kimble      Conservative  "
      ]
     },
     "execution_count": 5,
     "metadata": {},
     "output_type": "execute_result"
    }
   ],
   "source": [
    "import pandas as pd\n",
    "\n",
    "df = pd.read_csv('merged.csv')\n",
    "df.sample(5) # losowe 5 rzędów z pliku"
   ]
  },
  {
   "cell_type": "code",
   "execution_count": 2,
   "metadata": {
    "collapsed": false
   },
   "outputs": [
    {
     "data": {
      "text/plain": [
       "(21536, 5)"
      ]
     },
     "execution_count": 2,
     "metadata": {},
     "output_type": "execute_result"
    }
   ],
   "source": [
    "df.shape"
   ]
  },
  {
   "cell_type": "markdown",
   "metadata": {},
   "source": [
    "W pliku znajduje się 21536 wypowiedzi."
   ]
  },
  {
   "cell_type": "markdown",
   "metadata": {},
   "source": [
    "## 2. Analiza tonu wypowiedzi"
   ]
  },
  {
   "cell_type": "markdown",
   "metadata": {},
   "source": [
    "Do analizy tonu wypowiedzi użyto API udostępnionego przez IBM (Tone Analyzer: https://cloud.ibm.com/apidocs/tone-analyzer). Każdej wypowiedzi przypisano jedną z 6 emocji: Confident, Tentative, Fear, Anger, Joy, Sadness. Ze zbioru 7 głównych emocji, które wykrywa Tone Analyzer, usunięto Analytical, ponieważ wstępne testy pokazały, że większość wypowiedzi jest zaliczana do tej kategorii. Jeżeli dana wypowiedź została przypisana do więcej niż 1 emocji, wybierano główną, czyli tę, dla której wynik (\"score\") był najwyższy. Jeżeli żadna emocja nie została przypisana, wypowiedź nie była brana pod uwagę w dalszej analizie. Do analizy użyto poniższego skryptu:"
   ]
  },
  {
   "cell_type": "code",
   "execution_count": null,
   "metadata": {
    "collapsed": true
   },
   "outputs": [],
   "source": [
    "from watson_developer_cloud import ToneAnalyzerV3\n",
    "import json\n",
    "import pandas as pd\n",
    "\n",
    "tone_analyzer = ToneAnalyzerV3(\n",
    "    version='2019-01-26',\n",
    "    iam_apikey='gUyh2OR0IBixeyvJWRfs_QjOdDGphIDi2ZhpbsmAg_aE',\n",
    "    url='https://gateway-lon.watsonplatform.net/tone-analyzer/api'\n",
    ")\n",
    "tone_analyzer.set_default_headers({'x-watson-learning-opt-out': \"true\"})\n",
    "\n",
    "def analyze_sentiment(text):\n",
    "    tone_analysis = tone_analyzer.tone(\n",
    "        {'text': text},\n",
    "        'application/json'\n",
    "    ).get_result()\n",
    "\n",
    "    tones = tone_analysis['document_tone']['tones']\n",
    "    tones_sorted = sorted(tones, key=lambda k: k['score'], reverse=True)\n",
    "    main_tone = ''\n",
    "    main_tone_score = 0\n",
    "    if len(tones_sorted):\n",
    "        main = tones_sorted[0]\n",
    "        if main['tone_name'] != 'Analytical':\n",
    "            main_tone = main['tone_name']\n",
    "            main_tone_score = main['score']\n",
    "        else:\n",
    "            try:\n",
    "                if tones_sorted[1]['tone_name'] != 'Analytical':\n",
    "                    main_tone = tones_sorted[1]['tone_name']\n",
    "                    main_tone_score = tones_sorted[1]['score']\n",
    "            except:\n",
    "                pass\n",
    "    return main_tone, main_tone_score\n",
    "\n",
    "df = pd.read_csv('merged.csv')\n",
    "df1 = pd.DataFrame(columns = ['debate', 'date', 'speech', 'name', 'party', 'sentiment', 'score'])\n",
    "for index, row in df.iterrows():\n",
    "    try:\n",
    "        sentiment, score = analyze_sentiment(row['speech'])\n",
    "        if score!=0:\n",
    "            row = [row['debate_name'], row['debate_date'], row['speech'], row['name'], row['party'], sentiment, score]\n",
    "            df1.loc[len(df1)] = row\n",
    "    except:\n",
    "        pass\n",
    "\n",
    "df1.to_csv('sentiment.csv')"
   ]
  },
  {
   "cell_type": "markdown",
   "metadata": {},
   "source": [
    "Dane z dołączoną kolumną z wynikiem analizy zapisano w pliku 'sentiment.csv'."
   ]
  },
  {
   "cell_type": "code",
   "execution_count": 11,
   "metadata": {
    "collapsed": false
   },
   "outputs": [
    {
     "data": {
      "text/html": [
       "<div>\n",
       "<style scoped>\n",
       "    .dataframe tbody tr th:only-of-type {\n",
       "        vertical-align: middle;\n",
       "    }\n",
       "\n",
       "    .dataframe tbody tr th {\n",
       "        vertical-align: top;\n",
       "    }\n",
       "\n",
       "    .dataframe thead th {\n",
       "        text-align: right;\n",
       "    }\n",
       "</style>\n",
       "<table border=\"1\" class=\"dataframe\">\n",
       "  <thead>\n",
       "    <tr style=\"text-align: right;\">\n",
       "      <th></th>\n",
       "      <th>debate</th>\n",
       "      <th>date</th>\n",
       "      <th>speech</th>\n",
       "      <th>name</th>\n",
       "      <th>party</th>\n",
       "      <th>sentiment</th>\n",
       "      <th>score</th>\n",
       "    </tr>\n",
       "  </thead>\n",
       "  <tbody>\n",
       "    <tr>\n",
       "      <th>12609</th>\n",
       "      <td>Brexit and Foreign Affairs</td>\n",
       "      <td>26 June 2017</td>\n",
       "      <td>It is also good to see so many new Members pre...</td>\n",
       "      <td>Emily Thornberry</td>\n",
       "      <td>Labour</td>\n",
       "      <td>Joy</td>\n",
       "      <td>0.808592</td>\n",
       "    </tr>\n",
       "    <tr>\n",
       "      <th>1109</th>\n",
       "      <td>Brexit: UK-Irish Relations</td>\n",
       "      <td>5 September 2017</td>\n",
       "      <td>In our UK-Irish relations report, we outlined ...</td>\n",
       "      <td>Lord Jay of Ewelme</td>\n",
       "      <td>Crossbench</td>\n",
       "      <td>Confident</td>\n",
       "      <td>0.703461</td>\n",
       "    </tr>\n",
       "    <tr>\n",
       "      <th>6863</th>\n",
       "      <td>Brexit: Withdrawal Agreement and Political Dec...</td>\n",
       "      <td>14 January 2019</td>\n",
       "      <td>Why do the Government not, even at this late s...</td>\n",
       "      <td>Baroness Miller of Chilthorne Domer</td>\n",
       "      <td>Liberal Democrat</td>\n",
       "      <td>Tentative</td>\n",
       "      <td>0.754524</td>\n",
       "    </tr>\n",
       "    <tr>\n",
       "      <th>14680</th>\n",
       "      <td>Brexit Negotiations</td>\n",
       "      <td>11 December 2017</td>\n",
       "      <td>I wish the Prime Minister every success in neg...</td>\n",
       "      <td>John Redwood</td>\n",
       "      <td>Conservative</td>\n",
       "      <td>Confident</td>\n",
       "      <td>0.802229</td>\n",
       "    </tr>\n",
       "    <tr>\n",
       "      <th>4128</th>\n",
       "      <td>Brexit: Trade in Non-financial Services (EUC R...</td>\n",
       "      <td>18 December 2017</td>\n",
       "      <td>Secondly, the experience challenged the conven...</td>\n",
       "      <td>Lord Liddle</td>\n",
       "      <td>Labour</td>\n",
       "      <td>Joy</td>\n",
       "      <td>0.930359</td>\n",
       "    </tr>\n",
       "  </tbody>\n",
       "</table>\n",
       "</div>"
      ],
      "text/plain": [
       "                                                  debate              date  \\\n",
       "12609                         Brexit and Foreign Affairs      26 June 2017   \n",
       "1109                          Brexit: UK-Irish Relations  5 September 2017   \n",
       "6863   Brexit: Withdrawal Agreement and Political Dec...   14 January 2019   \n",
       "14680                                Brexit Negotiations  11 December 2017   \n",
       "4128   Brexit: Trade in Non-financial Services (EUC R...  18 December 2017   \n",
       "\n",
       "                                                  speech  \\\n",
       "12609  It is also good to see so many new Members pre...   \n",
       "1109   In our UK-Irish relations report, we outlined ...   \n",
       "6863   Why do the Government not, even at this late s...   \n",
       "14680  I wish the Prime Minister every success in neg...   \n",
       "4128   Secondly, the experience challenged the conven...   \n",
       "\n",
       "                                      name             party  sentiment  \\\n",
       "12609                     Emily Thornberry            Labour        Joy   \n",
       "1109                    Lord Jay of Ewelme        Crossbench  Confident   \n",
       "6863   Baroness Miller of Chilthorne Domer  Liberal Democrat  Tentative   \n",
       "14680                         John Redwood      Conservative  Confident   \n",
       "4128                           Lord Liddle            Labour        Joy   \n",
       "\n",
       "          score  \n",
       "12609  0.808592  \n",
       "1109   0.703461  \n",
       "6863   0.754524  \n",
       "14680  0.802229  \n",
       "4128   0.930359  "
      ]
     },
     "execution_count": 11,
     "metadata": {},
     "output_type": "execute_result"
    }
   ],
   "source": [
    "df = pd.read_csv('sentiment.csv')\n",
    "df.sample(5) # losowe 5 rzędów"
   ]
  },
  {
   "cell_type": "code",
   "execution_count": 12,
   "metadata": {
    "collapsed": false
   },
   "outputs": [
    {
     "data": {
      "text/plain": [
       "(15486, 7)"
      ]
     },
     "execution_count": 12,
     "metadata": {},
     "output_type": "execute_result"
    }
   ],
   "source": [
    "df.shape"
   ]
  },
  {
   "cell_type": "markdown",
   "metadata": {},
   "source": [
    "W ten sposób uzyskano 15486 wypowiedzi z przypisanym tonem."
   ]
  },
  {
   "cell_type": "markdown",
   "metadata": {},
   "source": [
    "Każdej z przenanalizowanych wypowiedzi poza kategorią (główną emocją) przypisano wartość liczbową z zakresu od -1 (najbardziej negatywna) do 1 (najbardziej pozytywna). Do przypisania wartości liczbowych do wypowiedzi użyto VADERa (https://github.com/cjhutto/vaderSentiment), słownika i narzędzia dostępnego w bibliotece NLTK. "
   ]
  },
  {
   "cell_type": "code",
   "execution_count": 15,
   "metadata": {
    "collapsed": false
   },
   "outputs": [],
   "source": [
    "import nltk\n",
    "from nltk.sentiment.vader import SentimentIntensityAnalyzer"
   ]
  },
  {
   "cell_type": "markdown",
   "metadata": {},
   "source": [
    "Zdefiniowano następującą funkcję, która pozwoliła na przypisanie wartości do wypowiedzi:"
   ]
  },
  {
   "cell_type": "code",
   "execution_count": 18,
   "metadata": {
    "collapsed": true
   },
   "outputs": [],
   "source": [
    "def nltk_sentiment(sentence):\n",
    "    nltk_sentiment = SentimentIntensityAnalyzer()\n",
    "    score = nltk_sentiment.polarity_scores(sentence)\n",
    "    return score['compound']"
   ]
  },
  {
   "cell_type": "markdown",
   "metadata": {},
   "source": [
    "Przykładowe wyniki działania funkcji:"
   ]
  },
  {
   "cell_type": "code",
   "execution_count": 30,
   "metadata": {
    "collapsed": false
   },
   "outputs": [
    {
     "data": {
      "text/plain": [
       "0.6369"
      ]
     },
     "execution_count": 30,
     "metadata": {},
     "output_type": "execute_result"
    }
   ],
   "source": [
    "nltk_sentiment('i love data science') # pozytywna wypowiedź"
   ]
  },
  {
   "cell_type": "code",
   "execution_count": 29,
   "metadata": {
    "collapsed": false
   },
   "outputs": [
    {
     "data": {
      "text/plain": [
       "-0.5423"
      ]
     },
     "execution_count": 29,
     "metadata": {},
     "output_type": "execute_result"
    }
   ],
   "source": [
    "nltk_sentiment('drugs are bad') # negatywna wypowiedź"
   ]
  },
  {
   "cell_type": "code",
   "execution_count": 28,
   "metadata": {
    "collapsed": false,
    "scrolled": false
   },
   "outputs": [
    {
     "data": {
      "text/plain": [
       "0.0"
      ]
     },
     "execution_count": 28,
     "metadata": {},
     "output_type": "execute_result"
    }
   ],
   "source": [
    "nltk_sentiment('i am hungry') # neutralna wypowiedź"
   ]
  },
  {
   "cell_type": "code",
   "execution_count": 27,
   "metadata": {
    "collapsed": false,
    "scrolled": true
   },
   "outputs": [
    {
     "name": "stdout",
     "output_type": "stream",
     "text": [
      "['“David Davis was a terrible Brexit Secretary. He could hardly be bothered to go to Brussels and rapidly lost respect there”.'] -0.5141\n"
     ]
    }
   ],
   "source": [
    "t = df.sample(1) # przykładowa wypowiedź z pliku\n",
    "print(t['speech'].values, nltk_sentiment(t['speech'].values[0]))"
   ]
  },
  {
   "cell_type": "markdown",
   "metadata": {},
   "source": [
    "Wyniki analizy sentymentu za pomocą VADERa zapisano w kolumnie \"sentiment_simple\":"
   ]
  },
  {
   "cell_type": "code",
   "execution_count": 32,
   "metadata": {
    "collapsed": false
   },
   "outputs": [
    {
     "name": "stderr",
     "output_type": "stream",
     "text": [
      "/home/ekot/.local/lib/python3.5/site-packages/pandas/core/indexing.py:189: SettingWithCopyWarning: \n",
      "A value is trying to be set on a copy of a slice from a DataFrame\n",
      "\n",
      "See the caveats in the documentation: http://pandas.pydata.org/pandas-docs/stable/indexing.html#indexing-view-versus-copy\n",
      "  self._setitem_with_indexer(indexer, value)\n"
     ]
    }
   ],
   "source": [
    "df['sentiment_simple'] = 0\n",
    "for index, row in df.iterrows():\n",
    "    df['sentiment_simple'].iloc[index] = nltk_sentiment(row['speech'])"
   ]
  },
  {
   "cell_type": "markdown",
   "metadata": {},
   "source": [
    "Wyniki zapisano w pliku 'sentiment_ext.csv'."
   ]
  },
  {
   "cell_type": "code",
   "execution_count": 33,
   "metadata": {
    "collapsed": true
   },
   "outputs": [],
   "source": [
    "df.to_csv('sentiment_ext.csv')"
   ]
  },
  {
   "cell_type": "code",
   "execution_count": 49,
   "metadata": {
    "collapsed": false,
    "scrolled": true
   },
   "outputs": [
    {
     "data": {
      "text/html": [
       "<div>\n",
       "<style scoped>\n",
       "    .dataframe tbody tr th:only-of-type {\n",
       "        vertical-align: middle;\n",
       "    }\n",
       "\n",
       "    .dataframe tbody tr th {\n",
       "        vertical-align: top;\n",
       "    }\n",
       "\n",
       "    .dataframe thead th {\n",
       "        text-align: right;\n",
       "    }\n",
       "</style>\n",
       "<table border=\"1\" class=\"dataframe\">\n",
       "  <thead>\n",
       "    <tr style=\"text-align: right;\">\n",
       "      <th></th>\n",
       "      <th>debate</th>\n",
       "      <th>date</th>\n",
       "      <th>speech</th>\n",
       "      <th>name</th>\n",
       "      <th>party</th>\n",
       "      <th>sentiment</th>\n",
       "      <th>score</th>\n",
       "      <th>sentiment_simple</th>\n",
       "    </tr>\n",
       "  </thead>\n",
       "  <tbody>\n",
       "    <tr>\n",
       "      <th>12038</th>\n",
       "      <td>Brexit: Negotiations and No-deal Contingency P...</td>\n",
       "      <td>4 September 2018</td>\n",
       "      <td>My Lords, the Minister’s Statement today says ...</td>\n",
       "      <td>Lord Berkeley</td>\n",
       "      <td>Labour</td>\n",
       "      <td>Tentative</td>\n",
       "      <td>0.680970</td>\n",
       "      <td>-0.4939</td>\n",
       "    </tr>\n",
       "    <tr>\n",
       "      <th>9723</th>\n",
       "      <td>Brexit: Sectoral Impact Assessments</td>\n",
       "      <td>7 November 2017</td>\n",
       "      <td>My Lords, I am sure that we will all be reassu...</td>\n",
       "      <td>Lord Cormack</td>\n",
       "      <td>Conservative</td>\n",
       "      <td>Confident</td>\n",
       "      <td>0.757777</td>\n",
       "      <td>0.5434</td>\n",
       "    </tr>\n",
       "    <tr>\n",
       "      <th>1638</th>\n",
       "      <td>Brexit: Proposed UK–EU Security Treaty (Europe...</td>\n",
       "      <td>16 January 2019</td>\n",
       "      <td>He spoke also about Galileo.</td>\n",
       "      <td>Lord Bilimoria</td>\n",
       "      <td>Crossbench</td>\n",
       "      <td>Tentative</td>\n",
       "      <td>0.822231</td>\n",
       "      <td>0.0000</td>\n",
       "    </tr>\n",
       "    <tr>\n",
       "      <th>2770</th>\n",
       "      <td>Brexit: UK-EU Relations (EUC Report)</td>\n",
       "      <td>2 July 2018</td>\n",
       "      <td>Yesterday Graham Brady warned that a divided p...</td>\n",
       "      <td>Baroness Hayter of Kentish Town</td>\n",
       "      <td>Labour</td>\n",
       "      <td>Confident</td>\n",
       "      <td>0.688430</td>\n",
       "      <td>0.9758</td>\n",
       "    </tr>\n",
       "    <tr>\n",
       "      <th>10541</th>\n",
       "      <td>Brexit: Justice for Families, Individuals and ...</td>\n",
       "      <td>20 December 2017</td>\n",
       "      <td>I apologise for interrupting, but I did not in...</td>\n",
       "      <td>Baroness Shackleton of Belgravia</td>\n",
       "      <td>Conservative</td>\n",
       "      <td>Confident</td>\n",
       "      <td>0.869578</td>\n",
       "      <td>0.6369</td>\n",
       "    </tr>\n",
       "  </tbody>\n",
       "</table>\n",
       "</div>"
      ],
      "text/plain": [
       "                                                  debate              date  \\\n",
       "12038  Brexit: Negotiations and No-deal Contingency P...  4 September 2018   \n",
       "9723                 Brexit: Sectoral Impact Assessments   7 November 2017   \n",
       "1638   Brexit: Proposed UK–EU Security Treaty (Europe...   16 January 2019   \n",
       "2770                Brexit: UK-EU Relations (EUC Report)       2 July 2018   \n",
       "10541  Brexit: Justice for Families, Individuals and ...  20 December 2017   \n",
       "\n",
       "                                                  speech  \\\n",
       "12038  My Lords, the Minister’s Statement today says ...   \n",
       "9723   My Lords, I am sure that we will all be reassu...   \n",
       "1638                        He spoke also about Galileo.   \n",
       "2770   Yesterday Graham Brady warned that a divided p...   \n",
       "10541  I apologise for interrupting, but I did not in...   \n",
       "\n",
       "                                   name         party  sentiment     score  \\\n",
       "12038                     Lord Berkeley        Labour  Tentative  0.680970   \n",
       "9723                       Lord Cormack  Conservative  Confident  0.757777   \n",
       "1638                     Lord Bilimoria    Crossbench  Tentative  0.822231   \n",
       "2770    Baroness Hayter of Kentish Town        Labour  Confident  0.688430   \n",
       "10541  Baroness Shackleton of Belgravia  Conservative  Confident  0.869578   \n",
       "\n",
       "       sentiment_simple  \n",
       "12038           -0.4939  \n",
       "9723             0.5434  \n",
       "1638             0.0000  \n",
       "2770             0.9758  \n",
       "10541            0.6369  "
      ]
     },
     "execution_count": 49,
     "metadata": {},
     "output_type": "execute_result"
    }
   ],
   "source": [
    "df.sample(5) # 5 przykładowych rzędów"
   ]
  },
  {
   "cell_type": "markdown",
   "metadata": {},
   "source": [
    "### 2.1. Analiza sentymentu partii"
   ]
  },
  {
   "cell_type": "code",
   "execution_count": 23,
   "metadata": {
    "collapsed": true
   },
   "outputs": [],
   "source": [
    "import numpy as np\n",
    "import seaborn as sns\n",
    "import matplotlib.pyplot as plt\n",
    "%matplotlib inline"
   ]
  },
  {
   "cell_type": "code",
   "execution_count": 24,
   "metadata": {
    "collapsed": false,
    "scrolled": false
   },
   "outputs": [
    {
     "data": {
      "text/html": [
       "<div>\n",
       "<style scoped>\n",
       "    .dataframe tbody tr th:only-of-type {\n",
       "        vertical-align: middle;\n",
       "    }\n",
       "\n",
       "    .dataframe tbody tr th {\n",
       "        vertical-align: top;\n",
       "    }\n",
       "\n",
       "    .dataframe thead th {\n",
       "        text-align: right;\n",
       "    }\n",
       "</style>\n",
       "<table border=\"1\" class=\"dataframe\">\n",
       "  <thead>\n",
       "    <tr style=\"text-align: right;\">\n",
       "      <th></th>\n",
       "      <th>debate</th>\n",
       "      <th>date</th>\n",
       "      <th>speech</th>\n",
       "      <th>name</th>\n",
       "      <th>party</th>\n",
       "      <th>sentiment</th>\n",
       "      <th>sentiment_simple</th>\n",
       "    </tr>\n",
       "  </thead>\n",
       "  <tbody>\n",
       "    <tr>\n",
       "      <th>7960</th>\n",
       "      <td>Brexit: Farm Support</td>\n",
       "      <td>6 November 2017</td>\n",
       "      <td>My Lords, the noble Lord is absolutely right. ...</td>\n",
       "      <td>Lord Gardiner of Kimble</td>\n",
       "      <td>Conservative</td>\n",
       "      <td>Confident</td>\n",
       "      <td>0.9545</td>\n",
       "    </tr>\n",
       "    <tr>\n",
       "      <th>4114</th>\n",
       "      <td>Arts: Impact of Brexit</td>\n",
       "      <td>11 October 2018</td>\n",
       "      <td>My Lords, it is a great pleasure to support my...</td>\n",
       "      <td>Lord Liddle</td>\n",
       "      <td>Labour</td>\n",
       "      <td>Tentative</td>\n",
       "      <td>0.9571</td>\n",
       "    </tr>\n",
       "    <tr>\n",
       "      <th>14738</th>\n",
       "      <td>Brexit: Constitutional Reform and Governance A...</td>\n",
       "      <td>8 September 2016</td>\n",
       "      <td>Does the Minister believe that it is possible ...</td>\n",
       "      <td>Lord Myners</td>\n",
       "      <td>Crossbench</td>\n",
       "      <td>Tentative</td>\n",
       "      <td>-0.0516</td>\n",
       "    </tr>\n",
       "    <tr>\n",
       "      <th>2084</th>\n",
       "      <td>Brexit: Preparations and Negotiations</td>\n",
       "      <td>23 July 2018</td>\n",
       "      <td>However, I must add a note of warning on one p...</td>\n",
       "      <td>Lord Hope of Craighead</td>\n",
       "      <td>Crossbench</td>\n",
       "      <td>Confident</td>\n",
       "      <td>0.5098</td>\n",
       "    </tr>\n",
       "    <tr>\n",
       "      <th>7391</th>\n",
       "      <td>Brexit: Article 50</td>\n",
       "      <td>7 November 2016</td>\n",
       "      <td>I will absolutely answer the first point by sa...</td>\n",
       "      <td>Lord Bridges of Headley</td>\n",
       "      <td>Conservative</td>\n",
       "      <td>Confident</td>\n",
       "      <td>0.8624</td>\n",
       "    </tr>\n",
       "  </tbody>\n",
       "</table>\n",
       "</div>"
      ],
      "text/plain": [
       "                                                  debate              date  \\\n",
       "7960                                Brexit: Farm Support   6 November 2017   \n",
       "4114                              Arts: Impact of Brexit   11 October 2018   \n",
       "14738  Brexit: Constitutional Reform and Governance A...  8 September 2016   \n",
       "2084               Brexit: Preparations and Negotiations      23 July 2018   \n",
       "7391                                  Brexit: Article 50   7 November 2016   \n",
       "\n",
       "                                                  speech  \\\n",
       "7960   My Lords, the noble Lord is absolutely right. ...   \n",
       "4114   My Lords, it is a great pleasure to support my...   \n",
       "14738  Does the Minister believe that it is possible ...   \n",
       "2084   However, I must add a note of warning on one p...   \n",
       "7391   I will absolutely answer the first point by sa...   \n",
       "\n",
       "                          name         party  sentiment  sentiment_simple  \n",
       "7960   Lord Gardiner of Kimble  Conservative  Confident            0.9545  \n",
       "4114               Lord Liddle        Labour  Tentative            0.9571  \n",
       "14738              Lord Myners    Crossbench  Tentative           -0.0516  \n",
       "2084    Lord Hope of Craighead    Crossbench  Confident            0.5098  \n",
       "7391   Lord Bridges of Headley  Conservative  Confident            0.8624  "
      ]
     },
     "execution_count": 24,
     "metadata": {},
     "output_type": "execute_result"
    }
   ],
   "source": [
    "df = pd.read_csv('sentiment_ext.csv')\n",
    "df = df[['debate', 'date', 'speech', 'name', 'party', 'sentiment', 'sentiment_simple']]\n",
    "df.sample(5)"
   ]
  },
  {
   "cell_type": "markdown",
   "metadata": {},
   "source": [
    "W celu powiązania sentymentu z latami, z daty wyekstrahowano rok:"
   ]
  },
  {
   "cell_type": "code",
   "execution_count": 25,
   "metadata": {
    "collapsed": false
   },
   "outputs": [],
   "source": [
    "df['year'] = df['date'].apply(lambda x: str(x)[-5:])"
   ]
  },
  {
   "cell_type": "code",
   "execution_count": 26,
   "metadata": {
    "collapsed": false,
    "scrolled": true
   },
   "outputs": [
    {
     "data": {
      "text/html": [
       "<div>\n",
       "<style scoped>\n",
       "    .dataframe tbody tr th:only-of-type {\n",
       "        vertical-align: middle;\n",
       "    }\n",
       "\n",
       "    .dataframe tbody tr th {\n",
       "        vertical-align: top;\n",
       "    }\n",
       "\n",
       "    .dataframe thead th {\n",
       "        text-align: right;\n",
       "    }\n",
       "</style>\n",
       "<table border=\"1\" class=\"dataframe\">\n",
       "  <thead>\n",
       "    <tr style=\"text-align: right;\">\n",
       "      <th></th>\n",
       "      <th>debate</th>\n",
       "      <th>date</th>\n",
       "      <th>speech</th>\n",
       "      <th>name</th>\n",
       "      <th>party</th>\n",
       "      <th>sentiment</th>\n",
       "      <th>sentiment_simple</th>\n",
       "      <th>year</th>\n",
       "    </tr>\n",
       "  </thead>\n",
       "  <tbody>\n",
       "    <tr>\n",
       "      <th>0</th>\n",
       "      <td>Brexit: Withdrawal Agreement and Political Dec...</td>\n",
       "      <td>10 January 2019</td>\n",
       "      <td>—after we leave the European Union, I would ha...</td>\n",
       "      <td>Lord Strathclyde</td>\n",
       "      <td>Conservative</td>\n",
       "      <td>Tentative</td>\n",
       "      <td>0.2579</td>\n",
       "      <td>2019</td>\n",
       "    </tr>\n",
       "    <tr>\n",
       "      <th>1</th>\n",
       "      <td>Brexit: Withdrawal Agreement and Political Dec...</td>\n",
       "      <td>10 January 2019</td>\n",
       "      <td>For me, the key lies with the backstop—an issu...</td>\n",
       "      <td>Lord Strathclyde</td>\n",
       "      <td>Conservative</td>\n",
       "      <td>Fear</td>\n",
       "      <td>-0.0297</td>\n",
       "      <td>2019</td>\n",
       "    </tr>\n",
       "    <tr>\n",
       "      <th>2</th>\n",
       "      <td>Brexit: Withdrawal Agreement and Political Dec...</td>\n",
       "      <td>10 January 2019</td>\n",
       "      <td>I thank the House for its warm welcome, though...</td>\n",
       "      <td>Lord Strathclyde</td>\n",
       "      <td>Conservative</td>\n",
       "      <td>Joy</td>\n",
       "      <td>0.9287</td>\n",
       "      <td>2019</td>\n",
       "    </tr>\n",
       "    <tr>\n",
       "      <th>3</th>\n",
       "      <td>Brexit: Withdrawal Agreement and Political Dec...</td>\n",
       "      <td>10 January 2019</td>\n",
       "      <td>This is the political challenge facing the Com...</td>\n",
       "      <td>Lord Strathclyde</td>\n",
       "      <td>Conservative</td>\n",
       "      <td>Tentative</td>\n",
       "      <td>0.8338</td>\n",
       "      <td>2019</td>\n",
       "    </tr>\n",
       "    <tr>\n",
       "      <th>4</th>\n",
       "      <td>Brexit: Withdrawal Agreement and Political Dec...</td>\n",
       "      <td>10 January 2019</td>\n",
       "      <td>Whatever views you have on Brexit, this stage ...</td>\n",
       "      <td>Lord Strathclyde</td>\n",
       "      <td>Conservative</td>\n",
       "      <td>Joy</td>\n",
       "      <td>0.9488</td>\n",
       "      <td>2019</td>\n",
       "    </tr>\n",
       "  </tbody>\n",
       "</table>\n",
       "</div>"
      ],
      "text/plain": [
       "                                              debate             date  \\\n",
       "0  Brexit: Withdrawal Agreement and Political Dec...  10 January 2019   \n",
       "1  Brexit: Withdrawal Agreement and Political Dec...  10 January 2019   \n",
       "2  Brexit: Withdrawal Agreement and Political Dec...  10 January 2019   \n",
       "3  Brexit: Withdrawal Agreement and Political Dec...  10 January 2019   \n",
       "4  Brexit: Withdrawal Agreement and Political Dec...  10 January 2019   \n",
       "\n",
       "                                              speech              name  \\\n",
       "0  —after we leave the European Union, I would ha...  Lord Strathclyde   \n",
       "1  For me, the key lies with the backstop—an issu...  Lord Strathclyde   \n",
       "2  I thank the House for its warm welcome, though...  Lord Strathclyde   \n",
       "3  This is the political challenge facing the Com...  Lord Strathclyde   \n",
       "4  Whatever views you have on Brexit, this stage ...  Lord Strathclyde   \n",
       "\n",
       "          party  sentiment  sentiment_simple   year  \n",
       "0  Conservative  Tentative            0.2579   2019  \n",
       "1  Conservative       Fear           -0.0297   2019  \n",
       "2  Conservative        Joy            0.9287   2019  \n",
       "3  Conservative  Tentative            0.8338   2019  \n",
       "4  Conservative        Joy            0.9488   2019  "
      ]
     },
     "execution_count": 26,
     "metadata": {},
     "output_type": "execute_result"
    }
   ],
   "source": [
    "df.head()"
   ]
  },
  {
   "cell_type": "markdown",
   "metadata": {},
   "source": [
    "W zbiorze znaleziono wypowiedzi polityków z następujących partii politycznych:"
   ]
  },
  {
   "cell_type": "code",
   "execution_count": 27,
   "metadata": {
    "collapsed": false,
    "scrolled": false
   },
   "outputs": [
    {
     "data": {
      "text/plain": [
       "array(['Conservative', 'Crossbench', 'Liberal Democrat', 'Labour',\n",
       "       'Democratic Unionist Party', 'UK Independence Party', 'Bishops',\n",
       "       'Plaid Cymru', 'Non-affiliated', 'Independent Social Democrat',\n",
       "       'Scottish National Party', 'Labour Independent', 'Green Party',\n",
       "       'Labour (Co-op)', 'Social Democratic & Labour Party', 'Speaker',\n",
       "       'Independent', nan, 'Ulster Unionist Party', 'Independent Labour',\n",
       "       'Independent Ulster Unionist'], dtype=object)"
      ]
     },
     "execution_count": 27,
     "metadata": {},
     "output_type": "execute_result"
    }
   ],
   "source": [
    "df.party.unique()"
   ]
  },
  {
   "cell_type": "code",
   "execution_count": 75,
   "metadata": {
    "collapsed": false,
    "scrolled": true
   },
   "outputs": [
    {
     "data": {
      "text/plain": [
       "dict_keys(['Independent', 'Plaid Cymru', 'Scottish National Party', 'Independent Labour', 'Bishops', 'Democratic Unionist Party', 'Ulster Unionist Party', 'Labour', 'Conservative', 'Labour (Co-op)', 'Non-affiliated', 'Speaker', 'Independent Ulster Unionist', 'Green Party', 'Crossbench', 'Independent Social Democrat', 'Labour Independent', 'Liberal Democrat', 'Social Democratic & Labour Party', 'UK Independence Party'])"
      ]
     },
     "execution_count": 75,
     "metadata": {},
     "output_type": "execute_result"
    }
   ],
   "source": [
    "dfs={}\n",
    "parties = df.party.unique()\n",
    "parties_clean = [x for x in parties if str(x) != 'nan']\n",
    "for s in parties_clean:\n",
    "    dfs['{}'.format(s)] = df[df['party'] == s]\n",
    "\n",
    "dfs.keys()"
   ]
  },
  {
   "cell_type": "markdown",
   "metadata": {},
   "source": [
    "Dla każdej z partii znaleziono średni sentyment na podstawie wartości w kolumnie 'sentiment_simple'."
   ]
  },
  {
   "cell_type": "code",
   "execution_count": 96,
   "metadata": {
    "collapsed": false
   },
   "outputs": [],
   "source": [
    "def plot_sentiment():\n",
    "    vals = {}\n",
    "    for party in dfs.keys():\n",
    "        prob = dfs[party]['sentiment_simple'].mean()\n",
    "        vals[party] = prob\n",
    "    sorted_by_val = sorted(vals.items(), key=lambda kv: kv[1])\n",
    "    plt.scatter([i[0] for i in sorted_by_val], [i[1] for i in sorted_by_val])\n",
    "    plt.xticks([])\n",
    "    print([i[0] for i in sorted_by_val])\n",
    "\n",
    "    plt.show()"
   ]
  },
  {
   "cell_type": "code",
   "execution_count": 97,
   "metadata": {
    "collapsed": false,
    "scrolled": true
   },
   "outputs": [
    {
     "name": "stdout",
     "output_type": "stream",
     "text": [
      "['Independent Ulster Unionist', 'Independent Labour', 'Green Party', 'Independent', 'Scottish National Party', 'Independent Social Democrat', 'Plaid Cymru', 'Labour (Co-op)', 'Labour Independent', 'Speaker', 'Bishops', 'Crossbench', 'Labour', 'Liberal Democrat', 'UK Independence Party', 'Ulster Unionist Party', 'Social Democratic & Labour Party', 'Non-affiliated', 'Democratic Unionist Party', 'Conservative']\n"
     ]
    },
    {
     "data": {
      "image/png": "[encoded data removed]",
      "text/plain": [
       "<Figure size 432x288 with 1 Axes>"
      ]
     },
     "metadata": {},
     "output_type": "display_data"
    }
   ],
   "source": [
    "plot_sentiment()"
   ]
  },
  {
   "cell_type": "markdown",
   "metadata": {},
   "source": [
    "Wartość 'Independent Ulster Unionist' została zakwalifikowna jako partia i jej politycy mają bardzo niską, odstającą wartość sentymentu. Ta wartość w kolumnie określającej partię powinna dotyczyć tylko kilku polityków, więc tak skrajny wynik może być tym spowodowany. "
   ]
  },
  {
   "cell_type": "code",
   "execution_count": 107,
   "metadata": {
    "collapsed": false,
    "scrolled": true
   },
   "outputs": [
    {
     "data": {
      "text/html": [
       "<div>\n",
       "<style scoped>\n",
       "    .dataframe tbody tr th:only-of-type {\n",
       "        vertical-align: middle;\n",
       "    }\n",
       "\n",
       "    .dataframe tbody tr th {\n",
       "        vertical-align: top;\n",
       "    }\n",
       "\n",
       "    .dataframe thead th {\n",
       "        text-align: right;\n",
       "    }\n",
       "</style>\n",
       "<table border=\"1\" class=\"dataframe\">\n",
       "  <thead>\n",
       "    <tr style=\"text-align: right;\">\n",
       "      <th></th>\n",
       "      <th>debate</th>\n",
       "      <th>date</th>\n",
       "      <th>speech</th>\n",
       "      <th>name</th>\n",
       "      <th>party</th>\n",
       "      <th>sentiment</th>\n",
       "      <th>sentiment_simple</th>\n",
       "      <th>year</th>\n",
       "    </tr>\n",
       "  </thead>\n",
       "  <tbody>\n",
       "    <tr>\n",
       "      <th>15422</th>\n",
       "      <td>Brexit: Northern Cyprus</td>\n",
       "      <td>14 September 2017</td>\n",
       "      <td>My Lords, I suppose that I should by now be us...</td>\n",
       "      <td>Lord Maginnis of Drumglass</td>\n",
       "      <td>Independent Ulster Unionist</td>\n",
       "      <td>Anger</td>\n",
       "      <td>-0.9081</td>\n",
       "      <td>2017</td>\n",
       "    </tr>\n",
       "  </tbody>\n",
       "</table>\n",
       "</div>"
      ],
      "text/plain": [
       "                        debate               date  \\\n",
       "15422  Brexit: Northern Cyprus  14 September 2017   \n",
       "\n",
       "                                                  speech  \\\n",
       "15422  My Lords, I suppose that I should by now be us...   \n",
       "\n",
       "                             name                        party sentiment  \\\n",
       "15422  Lord Maginnis of Drumglass  Independent Ulster Unionist     Anger   \n",
       "\n",
       "       sentiment_simple   year  \n",
       "15422           -0.9081   2017  "
      ]
     },
     "execution_count": 107,
     "metadata": {},
     "output_type": "execute_result"
    }
   ],
   "source": [
    "df[df.party == 'Independent Ulster Unionist']"
   ]
  },
  {
   "cell_type": "markdown",
   "metadata": {},
   "source": [
    "Jak widać ten skrajnie niski sentyment dotyczył tylko jednej wypowiedzi jednego polityka. Wykres bez uwzględnionej tej wypowiedzi wygląda następująco:"
   ]
  },
  {
   "cell_type": "code",
   "execution_count": 104,
   "metadata": {
    "collapsed": true
   },
   "outputs": [],
   "source": [
    "def plot_sentiment():\n",
    "    vals = {}\n",
    "    for party in dfs.keys():\n",
    "        prob = dfs[party]['sentiment_simple'].mean()\n",
    "        vals[party] = prob\n",
    "    sorted_by_val = sorted(vals.items(), key=lambda kv: kv[1])[1:]\n",
    "    plt.scatter([i[0] for i in sorted_by_val], [i[1] for i in sorted_by_val])\n",
    "    plt.xticks([])\n",
    "    print(sorted_by_val)\n",
    "\n",
    "    plt.show()"
   ]
  },
  {
   "cell_type": "code",
   "execution_count": 105,
   "metadata": {
    "collapsed": false,
    "scrolled": false
   },
   "outputs": [
    {
     "name": "stdout",
     "output_type": "stream",
     "text": [
      "[('Independent Labour', -0.021019999999999994), ('Green Party', 0.15130697674418608), ('Independent', 0.1891875), ('Scottish National Party', 0.2615), ('Independent Social Democrat', 0.2732833333333334), ('Plaid Cymru', 0.2922673267326733), ('Labour (Co-op)', 0.3122295454545454), ('Labour Independent', 0.33159999999999995), ('Speaker', 0.3513769230769231), ('Bishops', 0.3825094202898551), ('Crossbench', 0.39718785008237234), ('Labour', 0.39850670698185814), ('Liberal Democrat', 0.4096958717610892), ('UK Independence Party', 0.43173333333333325), ('Ulster Unionist Party', 0.49604545454545446), ('Social Democratic & Labour Party', 0.5467076923076923), ('Non-affiliated', 0.5477256140350877), ('Democratic Unionist Party', 0.6054191919191919), ('Conservative', 0.6126453357591797)]\n"
     ]
    },
    {
     "data": {
      "image/png": "[encoded data removed]",
      "text/plain": [
       "<Figure size 432x288 with 1 Axes>"
      ]
     },
     "metadata": {},
     "output_type": "display_data"
    }
   ],
   "source": [
    "plot_sentiment()"
   ]
  },
  {
   "cell_type": "markdown",
   "metadata": {},
   "source": [
    "Średnie wartości sentymentu wahają się od ok. 0 do ok. 0.6. Najniższy średni sentyment uzyskano dla polityków, dla których wartość w kolumnie 'party' to 'Independent Labour'. Dotyczy to jedynie 2 polityków."
   ]
  },
  {
   "cell_type": "code",
   "execution_count": 108,
   "metadata": {
    "collapsed": false,
    "scrolled": true
   },
   "outputs": [
    {
     "data": {
      "text/html": [
       "<div>\n",
       "<style scoped>\n",
       "    .dataframe tbody tr th:only-of-type {\n",
       "        vertical-align: middle;\n",
       "    }\n",
       "\n",
       "    .dataframe tbody tr th {\n",
       "        vertical-align: top;\n",
       "    }\n",
       "\n",
       "    .dataframe thead th {\n",
       "        text-align: right;\n",
       "    }\n",
       "</style>\n",
       "<table border=\"1\" class=\"dataframe\">\n",
       "  <thead>\n",
       "    <tr style=\"text-align: right;\">\n",
       "      <th></th>\n",
       "      <th>debate</th>\n",
       "      <th>date</th>\n",
       "      <th>speech</th>\n",
       "      <th>name</th>\n",
       "      <th>party</th>\n",
       "      <th>sentiment</th>\n",
       "      <th>sentiment_simple</th>\n",
       "      <th>year</th>\n",
       "    </tr>\n",
       "  </thead>\n",
       "  <tbody>\n",
       "    <tr>\n",
       "      <th>15301</th>\n",
       "      <td>Brexit: Article 50</td>\n",
       "      <td>29 October 2018</td>\n",
       "      <td>Is it not helpful for the noble Lord, Lord Pea...</td>\n",
       "      <td>Lord Stoddart of Swindon</td>\n",
       "      <td>Independent Labour</td>\n",
       "      <td>Confident</td>\n",
       "      <td>-0.3252</td>\n",
       "      <td>2018</td>\n",
       "    </tr>\n",
       "    <tr>\n",
       "      <th>15302</th>\n",
       "      <td>Brexit: Economic Analysis of Various Scenarios</td>\n",
       "      <td>28 November 2018</td>\n",
       "      <td>My Lords, does the Minister agree that the for...</td>\n",
       "      <td>Lord Stoddart of Swindon</td>\n",
       "      <td>Independent Labour</td>\n",
       "      <td>Tentative</td>\n",
       "      <td>0.3094</td>\n",
       "      <td>2018</td>\n",
       "    </tr>\n",
       "    <tr>\n",
       "      <th>15315</th>\n",
       "      <td>Brexit: Withdrawal Agreement and Political Dec...</td>\n",
       "      <td>5 December 2018</td>\n",
       "      <td>It is also clear that the UK’s exit from the E...</td>\n",
       "      <td>Lord Truscott</td>\n",
       "      <td>Independent Labour</td>\n",
       "      <td>Tentative</td>\n",
       "      <td>0.9246</td>\n",
       "      <td>2018</td>\n",
       "    </tr>\n",
       "    <tr>\n",
       "      <th>15316</th>\n",
       "      <td>Brexit: Withdrawal Agreement and Political Dec...</td>\n",
       "      <td>5 December 2018</td>\n",
       "      <td>It is not overdramatic to say that this countr...</td>\n",
       "      <td>Lord Truscott</td>\n",
       "      <td>Independent Labour</td>\n",
       "      <td>Sadness</td>\n",
       "      <td>-0.9825</td>\n",
       "      <td>2018</td>\n",
       "    </tr>\n",
       "    <tr>\n",
       "      <th>15317</th>\n",
       "      <td>Brexit: Withdrawal Agreement and Political Dec...</td>\n",
       "      <td>5 December 2018</td>\n",
       "      <td>My Lords, it is a pleasure to follow the noble...</td>\n",
       "      <td>Lord Truscott</td>\n",
       "      <td>Independent Labour</td>\n",
       "      <td>Joy</td>\n",
       "      <td>0.8481</td>\n",
       "      <td>2018</td>\n",
       "    </tr>\n",
       "    <tr>\n",
       "      <th>15318</th>\n",
       "      <td>Brexit: Withdrawal Agreement and Political Dec...</td>\n",
       "      <td>5 December 2018</td>\n",
       "      <td>The Brexit negotiations have been a shambles, ...</td>\n",
       "      <td>Lord Truscott</td>\n",
       "      <td>Independent Labour</td>\n",
       "      <td>Tentative</td>\n",
       "      <td>-0.2023</td>\n",
       "      <td>2018</td>\n",
       "    </tr>\n",
       "    <tr>\n",
       "      <th>15319</th>\n",
       "      <td>Brexit: Withdrawal Agreement and Political Dec...</td>\n",
       "      <td>5 December 2018</td>\n",
       "      <td>The British people voted leave in the referend...</td>\n",
       "      <td>Lord Truscott</td>\n",
       "      <td>Independent Labour</td>\n",
       "      <td>Sadness</td>\n",
       "      <td>-0.9479</td>\n",
       "      <td>2018</td>\n",
       "    </tr>\n",
       "    <tr>\n",
       "      <th>15320</th>\n",
       "      <td>Brexit: Withdrawal Agreement and Political Dec...</td>\n",
       "      <td>5 December 2018</td>\n",
       "      <td>The political declaration is in my view meanin...</td>\n",
       "      <td>Lord Truscott</td>\n",
       "      <td>Independent Labour</td>\n",
       "      <td>Tentative</td>\n",
       "      <td>-0.2732</td>\n",
       "      <td>2018</td>\n",
       "    </tr>\n",
       "    <tr>\n",
       "      <th>15321</th>\n",
       "      <td>Brexit: Withdrawal Agreement and Political Dec...</td>\n",
       "      <td>5 December 2018</td>\n",
       "      <td>The question for your Lordships’ House and Her...</td>\n",
       "      <td>Lord Truscott</td>\n",
       "      <td>Independent Labour</td>\n",
       "      <td>Sadness</td>\n",
       "      <td>-0.5245</td>\n",
       "      <td>2018</td>\n",
       "    </tr>\n",
       "    <tr>\n",
       "      <th>15322</th>\n",
       "      <td>Brexit: Withdrawal Agreement and Political Dec...</td>\n",
       "      <td>5 December 2018</td>\n",
       "      <td>We need time as a Parliament and as a country ...</td>\n",
       "      <td>Lord Truscott</td>\n",
       "      <td>Independent Labour</td>\n",
       "      <td>Tentative</td>\n",
       "      <td>0.9633</td>\n",
       "      <td>2018</td>\n",
       "    </tr>\n",
       "  </tbody>\n",
       "</table>\n",
       "</div>"
      ],
      "text/plain": [
       "                                                  debate              date  \\\n",
       "15301                                 Brexit: Article 50   29 October 2018   \n",
       "15302     Brexit: Economic Analysis of Various Scenarios  28 November 2018   \n",
       "15315  Brexit: Withdrawal Agreement and Political Dec...   5 December 2018   \n",
       "15316  Brexit: Withdrawal Agreement and Political Dec...   5 December 2018   \n",
       "15317  Brexit: Withdrawal Agreement and Political Dec...   5 December 2018   \n",
       "15318  Brexit: Withdrawal Agreement and Political Dec...   5 December 2018   \n",
       "15319  Brexit: Withdrawal Agreement and Political Dec...   5 December 2018   \n",
       "15320  Brexit: Withdrawal Agreement and Political Dec...   5 December 2018   \n",
       "15321  Brexit: Withdrawal Agreement and Political Dec...   5 December 2018   \n",
       "15322  Brexit: Withdrawal Agreement and Political Dec...   5 December 2018   \n",
       "\n",
       "                                                  speech  \\\n",
       "15301  Is it not helpful for the noble Lord, Lord Pea...   \n",
       "15302  My Lords, does the Minister agree that the for...   \n",
       "15315  It is also clear that the UK’s exit from the E...   \n",
       "15316  It is not overdramatic to say that this countr...   \n",
       "15317  My Lords, it is a pleasure to follow the noble...   \n",
       "15318  The Brexit negotiations have been a shambles, ...   \n",
       "15319  The British people voted leave in the referend...   \n",
       "15320  The political declaration is in my view meanin...   \n",
       "15321  The question for your Lordships’ House and Her...   \n",
       "15322  We need time as a Parliament and as a country ...   \n",
       "\n",
       "                           name               party  sentiment  \\\n",
       "15301  Lord Stoddart of Swindon  Independent Labour  Confident   \n",
       "15302  Lord Stoddart of Swindon  Independent Labour  Tentative   \n",
       "15315             Lord Truscott  Independent Labour  Tentative   \n",
       "15316             Lord Truscott  Independent Labour    Sadness   \n",
       "15317             Lord Truscott  Independent Labour        Joy   \n",
       "15318             Lord Truscott  Independent Labour  Tentative   \n",
       "15319             Lord Truscott  Independent Labour    Sadness   \n",
       "15320             Lord Truscott  Independent Labour  Tentative   \n",
       "15321             Lord Truscott  Independent Labour    Sadness   \n",
       "15322             Lord Truscott  Independent Labour  Tentative   \n",
       "\n",
       "       sentiment_simple   year  \n",
       "15301           -0.3252   2018  \n",
       "15302            0.3094   2018  \n",
       "15315            0.9246   2018  \n",
       "15316           -0.9825   2018  \n",
       "15317            0.8481   2018  \n",
       "15318           -0.2023   2018  \n",
       "15319           -0.9479   2018  \n",
       "15320           -0.2732   2018  \n",
       "15321           -0.5245   2018  \n",
       "15322            0.9633   2018  "
      ]
     },
     "execution_count": 108,
     "metadata": {},
     "output_type": "execute_result"
    }
   ],
   "source": [
    "df[df.party == 'Independent Labour']"
   ]
  },
  {
   "cell_type": "markdown",
   "metadata": {},
   "source": [
    "Partią polityczną, która ma najniższy średni sentyment jest Partia Zielonych (ok. 0.15). Najwyższy średni sentyment ma Partia Konserwatywna."
   ]
  },
  {
   "cell_type": "markdown",
   "metadata": {},
   "source": [
    "Na wykresie poniżej przedstawiono, ile wypowiedzi należy do każdej ze znalezionych partii:"
   ]
  },
  {
   "cell_type": "code",
   "execution_count": 13,
   "metadata": {
    "collapsed": false,
    "scrolled": false
   },
   "outputs": [
    {
     "data": {
      "image/png": "[encoded data removed]",
      "text/plain": [
       "<Figure size 648x648 with 1 Axes>"
      ]
     },
     "metadata": {},
     "output_type": "display_data"
    }
   ],
   "source": [
    "counts = df.party.groupby(df.party).count()\n",
    "counts.plot(kind='pie', figsize=(9,9), labels=None)\n",
    "plt.legend(labels=counts.index, loc=\"best\")\n",
    "plt.axis('equal')\n",
    "plt.show()"
   ]
  },
  {
   "cell_type": "markdown",
   "metadata": {},
   "source": [
    "4 grupy polityczne, które odnotowały największą liczbę wypowiedzi, to: Conservative (Partia Konserwatywna), Labour (Partia Pracy), Liberal Democrat (Liberalni Demokraci), Crossbench (bezpartyjni). W dalszej analizie rozważane będą te 4 grupy."
   ]
  },
  {
   "cell_type": "code",
   "execution_count": 11,
   "metadata": {
    "collapsed": false
   },
   "outputs": [],
   "source": [
    "main_parties = ['Conservative', 'Labour', 'Crossbench', 'Liberal Democrat']\n",
    "df1 = df.loc[df['party'].isin(main_parties)]"
   ]
  },
  {
   "cell_type": "code",
   "execution_count": 12,
   "metadata": {
    "collapsed": false,
    "scrolled": true
   },
   "outputs": [
    {
     "data": {
      "text/plain": [
       "<seaborn.axisgrid.FacetGrid at 0x7faa452c9710>"
      ]
     },
     "execution_count": 12,
     "metadata": {},
     "output_type": "execute_result"
    },
    {
     "data": {
      "image/png": "[encoded data removed]",
      "text/plain": [
       "<Figure size 1440x360 with 4 Axes>"
      ]
     },
     "metadata": {},
     "output_type": "display_data"
    }
   ],
   "source": [
    "sns.catplot(x=\"sentiment\", kind=\"count\", col=\"party\", data=df1)"
   ]
  },
  {
   "cell_type": "markdown",
   "metadata": {},
   "source": [
    "Dla 3 z 4 grup (poza Partią Konserwatywną) dominującą w wypowiedziach emocją jest Tentative (niepewność). Emocją dominującą w wypowiedziach Partii Konserwatywnej jest Confident (pewność). Jedynie dla Partii Konserwatywnej zaobserwowano większą liczbę wypowiedzi z emocją Joy (radość) niż z emocją Sadness (smutek). "
   ]
  },
  {
   "cell_type": "code",
   "execution_count": 352,
   "metadata": {
    "collapsed": false
   },
   "outputs": [
    {
     "data": {
      "text/plain": [
       "party             sentiment\n",
       "Conservative      Anger          50\n",
       "                  Confident    2548\n",
       "                  Fear           97\n",
       "                  Joy          1253\n",
       "                  Sadness       549\n",
       "                  Tentative    1549\n",
       "Crossbench        Anger          24\n",
       "                  Confident     666\n",
       "                  Fear           67\n",
       "                  Joy           393\n",
       "                  Sadness       408\n",
       "                  Tentative     870\n",
       "Labour            Anger          49\n",
       "                  Confident    1105\n",
       "                  Fear          105\n",
       "                  Joy           556\n",
       "                  Sadness       547\n",
       "                  Tentative    1276\n",
       "Liberal Democrat  Anger          29\n",
       "                  Confident     742\n",
       "                  Fear           62\n",
       "                  Joy           307\n",
       "                  Sadness       321\n",
       "                  Tentative     816\n",
       "Name: sentiment, dtype: int64"
      ]
     },
     "execution_count": 352,
     "metadata": {},
     "output_type": "execute_result"
    }
   ],
   "source": [
    "df1.groupby(['party', 'sentiment'])['sentiment'].count()"
   ]
  },
  {
   "cell_type": "code",
   "execution_count": 16,
   "metadata": {
    "collapsed": false,
    "scrolled": true
   },
   "outputs": [
    {
     "name": "stdout",
     "output_type": "stream",
     "text": [
      "party             sentiment\n",
      "Conservative      Anger          50\n",
      "                  Confident    2548\n",
      "                  Fear           97\n",
      "                  Joy          1253\n",
      "                  Sadness       549\n",
      "                  Tentative    1549\n",
      "Crossbench        Anger          24\n",
      "                  Confident     666\n",
      "                  Fear           67\n",
      "                  Joy           393\n",
      "                  Sadness       408\n",
      "                  Tentative     870\n",
      "Labour            Anger          49\n",
      "                  Confident    1105\n",
      "                  Fear          105\n",
      "                  Joy           556\n",
      "                  Sadness       547\n",
      "                  Tentative    1276\n",
      "Liberal Democrat  Anger          29\n",
      "                  Confident     742\n",
      "                  Fear           62\n",
      "                  Joy           307\n",
      "                  Sadness       321\n",
      "                  Tentative     816\n",
      "Name: sentiment, dtype: int64\n"
     ]
    }
   ],
   "source": [
    "parties_sentiment = df1.groupby(['party', 'sentiment'])['sentiment'].count()\n",
    "print(parties_sentiment)"
   ]
  },
  {
   "cell_type": "markdown",
   "metadata": {},
   "source": [
    "Dla każdej z grup obliczono 2 stosunki porównywalnych emocji: Joy do Sadness (\"js\") i Confident do Tentative (\"ct\")."
   ]
  },
  {
   "cell_type": "code",
   "execution_count": 17,
   "metadata": {
    "collapsed": false
   },
   "outputs": [],
   "source": [
    "parties_js = []\n",
    "parties_ct = []\n",
    "for i in range(24):\n",
    "    if i%6 == 1:\n",
    "        parties_ct.append(parties_sentiment[i]/parties_sentiment[i+4])\n",
    "    elif i%6 == 3:\n",
    "        parties_js.append(parties_sentiment[i]/parties_sentiment[i+1])"
   ]
  },
  {
   "cell_type": "code",
   "execution_count": 18,
   "metadata": {
    "collapsed": false
   },
   "outputs": [
    {
     "data": {
      "text/plain": [
       "['Conservative', 'Labour', 'Crossbench', 'Liberal Democrat']"
      ]
     },
     "execution_count": 18,
     "metadata": {},
     "output_type": "execute_result"
    }
   ],
   "source": [
    "main_parties"
   ]
  },
  {
   "cell_type": "code",
   "execution_count": 19,
   "metadata": {
    "collapsed": false
   },
   "outputs": [
    {
     "data": {
      "text/plain": [
       "[1.644932214331827, 0.7655172413793103, 0.8659874608150471, 0.9093137254901961]"
      ]
     },
     "execution_count": 19,
     "metadata": {},
     "output_type": "execute_result"
    }
   ],
   "source": [
    "parties_ct"
   ]
  },
  {
   "cell_type": "code",
   "execution_count": 20,
   "metadata": {
    "collapsed": false
   },
   "outputs": [
    {
     "data": {
      "text/plain": [
       "[2.2823315118397085, 0.9632352941176471, 1.016453382084095, 0.956386292834891]"
      ]
     },
     "execution_count": 20,
     "metadata": {},
     "output_type": "execute_result"
    }
   ],
   "source": [
    "parties_js"
   ]
  },
  {
   "cell_type": "code",
   "execution_count": 21,
   "metadata": {
    "collapsed": false
   },
   "outputs": [],
   "source": [
    "party_data_js = dict(zip(main_parties, parties_js))\n",
    "party_data_ct = dict(zip(main_parties, parties_ct))"
   ]
  },
  {
   "cell_type": "code",
   "execution_count": 22,
   "metadata": {
    "collapsed": false,
    "scrolled": true
   },
   "outputs": [
    {
     "data": {
      "text/plain": [
       "{'Conservative': 2.2823315118397085,\n",
       " 'Crossbench': 1.016453382084095,\n",
       " 'Labour': 0.9632352941176471,\n",
       " 'Liberal Democrat': 0.956386292834891}"
      ]
     },
     "execution_count": 22,
     "metadata": {},
     "output_type": "execute_result"
    }
   ],
   "source": [
    "party_data_js"
   ]
  },
  {
   "cell_type": "code",
   "execution_count": 23,
   "metadata": {
    "collapsed": false,
    "scrolled": false
   },
   "outputs": [
    {
     "data": {
      "text/plain": [
       "<matplotlib.axes._subplots.AxesSubplot at 0x7f53ade49dd8>"
      ]
     },
     "execution_count": 23,
     "metadata": {},
     "output_type": "execute_result"
    },
    {
     "data": {
      "image/png": "[encoded data removed]",
      "text/plain": [
       "<Figure size 432x288 with 1 Axes>"
      ]
     },
     "metadata": {},
     "output_type": "display_data"
    }
   ],
   "source": [
    "pd.DataFrame(party_data_js, index=['Joy/Sadness']).T.plot(kind='bar', title = 'Joy to sadness ratio within parties')"
   ]
  },
  {
   "cell_type": "markdown",
   "metadata": {},
   "source": [
    "Dla Partii Konserwatywnej wartość stosunku Joy/Sadness jest ponad 2 razy wyższa dla jego wartości dla kolejnej grupy. Stosunek Joy/Sadness w pozostałych 3 grupach jest do siebie zbliżony."
   ]
  },
  {
   "cell_type": "code",
   "execution_count": 25,
   "metadata": {
    "collapsed": false
   },
   "outputs": [
    {
     "data": {
      "text/plain": [
       "{'Conservative': 1.644932214331827,\n",
       " 'Crossbench': 0.8659874608150471,\n",
       " 'Labour': 0.7655172413793103,\n",
       " 'Liberal Democrat': 0.9093137254901961}"
      ]
     },
     "execution_count": 25,
     "metadata": {},
     "output_type": "execute_result"
    }
   ],
   "source": [
    "party_data_ct"
   ]
  },
  {
   "cell_type": "code",
   "execution_count": 26,
   "metadata": {
    "collapsed": false,
    "scrolled": true
   },
   "outputs": [
    {
     "data": {
      "text/plain": [
       "<matplotlib.axes._subplots.AxesSubplot at 0x7f53ac5a92e8>"
      ]
     },
     "execution_count": 26,
     "metadata": {},
     "output_type": "execute_result"
    },
    {
     "data": {
      "image/png": "[encoded data removed]",
      "text/plain": [
       "<Figure size 432x288 with 1 Axes>"
      ]
     },
     "metadata": {},
     "output_type": "display_data"
    }
   ],
   "source": [
    "pd.DataFrame(party_data_ct, index=['Confident/Tentative']).T.plot(kind='bar', title = 'Confident to Tentative ratio within parties')"
   ]
  },
  {
   "cell_type": "markdown",
   "metadata": {},
   "source": [
    "Także w przypadku stosunku Confident/Tentative jego wartość dla Partii Konserwatywnej jest wyższa niż dla pozostałych 3 grup."
   ]
  },
  {
   "cell_type": "markdown",
   "metadata": {},
   "source": [
    "### 2.2. Analiza sentymentu polityków"
   ]
  },
  {
   "cell_type": "markdown",
   "metadata": {},
   "source": [
    "Dla wypowiedzi każdego z polityków w zbiorze określono stosunki Joy/Sadness i Confident/Tentative. Jeżeli dla danego polityka nie znaleziono wypowiedzi zawierających emocji Sadness i wypowiedzi zawierających emocji Tentative (dzielenie przez 0), nie brano go pod uwagę."
   ]
  },
  {
   "cell_type": "code",
   "execution_count": 33,
   "metadata": {
    "collapsed": true
   },
   "outputs": [],
   "source": [
    "df2 = df1[df1['name'].isin(df1['name'].value_counts().index)]"
   ]
  },
  {
   "cell_type": "code",
   "execution_count": 34,
   "metadata": {
    "collapsed": false
   },
   "outputs": [],
   "source": [
    "grp = df2.groupby(['name', 'party'])"
   ]
  },
  {
   "cell_type": "code",
   "execution_count": 35,
   "metadata": {
    "collapsed": false,
    "scrolled": true
   },
   "outputs": [
    {
     "data": {
      "text/plain": [
       "624"
      ]
     },
     "execution_count": 35,
     "metadata": {},
     "output_type": "execute_result"
    }
   ],
   "source": [
    "len(grp)"
   ]
  },
  {
   "cell_type": "markdown",
   "metadata": {},
   "source": [
    "W zbiorze (przed znalezieniem stosunków) jest 624 polityków."
   ]
  },
  {
   "cell_type": "code",
   "execution_count": 36,
   "metadata": {
    "collapsed": false,
    "scrolled": true
   },
   "outputs": [
    {
     "name": "stdout",
     "output_type": "stream",
     "text": [
      "not all emotions needed found for Adam Afriyie\n",
      "not all emotions needed found for Alex Burghart\n",
      "not all emotions needed found for Alex Chalk\n",
      "not all emotions needed found for Alex Cunningham\n",
      "not all emotions needed found for Alison McGovern\n",
      "not all emotions needed found for Andrew Bowie\n",
      "not all emotions needed found for Andrew Bridgen\n",
      "not all emotions needed found for Andrew Rosindell\n",
      "not all emotions needed found for Andy Slaughter\n",
      "not all emotions needed found for Anna McMorrin\n",
      "not all emotions needed found for Baroness Afshar\n",
      "not all emotions needed found for Baroness Bakewell of Hardington Mandeville\n",
      "not all emotions needed found for Baroness Barker\n",
      "not all emotions needed found for Baroness Barran\n",
      "not all emotions needed found for Baroness Bowles of Berkhamsted\n",
      "not all emotions needed found for Baroness Boycott\n",
      "not all emotions needed found for Baroness Bryan of Partick\n",
      "not all emotions needed found for Baroness Burt of Solihull\n",
      "not all emotions needed found for Baroness Buscombe\n",
      "not all emotions needed found for Baroness Byford\n",
      "not all emotions needed found for Baroness Chalker of Wallasey\n",
      "not all emotions needed found for Baroness Chisholm of Owlpen\n",
      "not all emotions needed found for Baroness Coussins\n",
      "not all emotions needed found for Baroness Dean of Thornton-le-Fylde\n",
      "not all emotions needed found for Baroness Drake\n",
      "not all emotions needed found for Baroness Fairhead\n",
      "not all emotions needed found for Baroness Farrington of Ribbleton\n",
      "not all emotions needed found for Baroness Fookes\n",
      "not all emotions needed found for Baroness Gale\n",
      "not all emotions needed found for Baroness Goudie\n",
      "not all emotions needed found for Baroness Grey-Thompson\n",
      "not all emotions needed found for Baroness Hamwee\n",
      "not all emotions needed found for Baroness Hayman\n",
      "not all emotions needed found for Baroness Helic\n",
      "not all emotions needed found for Baroness Henig\n",
      "not all emotions needed found for Baroness Hollins\n",
      "not all emotions needed found for Baroness Hussein-Ece\n",
      "not all emotions needed found for Baroness Manningham-Buller\n",
      "not all emotions needed found for Baroness Manzoor\n",
      "not all emotions needed found for Baroness McDonagh\n",
      "not all emotions needed found for Baroness Meacher\n",
      "not all emotions needed found for Baroness Morgan of Drefelin\n",
      "not all emotions needed found for Baroness O'Neill of Bengarve\n",
      "not all emotions needed found for Baroness Rebuck\n",
      "not all emotions needed found for Baroness Redfern\n",
      "not all emotions needed found for Baroness Royall of Blaisdon\n",
      "not all emotions needed found for Baroness Valentine\n",
      "not all emotions needed found for Baroness Vere of Norbiton\n",
      "not all emotions needed found for Baroness Wheeler\n",
      "not all emotions needed found for Baroness Whitaker\n",
      "not all emotions needed found for Baroness Wilcox\n",
      "not all emotions needed found for Bill Esterson\n",
      "not all emotions needed found for Bill Grant\n",
      "not all emotions needed found for Bob Blackman\n",
      "not all emotions needed found for Boris Johnson\n",
      "not all emotions needed found for Caroline Flint\n",
      "not all emotions needed found for Catherine West\n",
      "not all emotions needed found for Charlie Elphicke\n",
      "not all emotions needed found for Chris Bryant\n",
      "not all emotions needed found for Chris Davies\n",
      "not all emotions needed found for Chris Elmore\n",
      "not all emotions needed found for Chris Ruane\n",
      "not all emotions needed found for Chuka Umunna\n",
      "not all emotions needed found for Claire Perry\n",
      "not all emotions needed found for Clive Efford\n",
      "not all emotions needed found for Colin Clark\n",
      "not all emotions needed found for Dame Caroline Spelman\n",
      "not all emotions needed found for Dame Eleanor Laing\n",
      "not all emotions needed found for Damian Green\n",
      "not all emotions needed found for Daniel Zeichner\n",
      "not all emotions needed found for David Duguid\n",
      "not all emotions needed found for David Hanson\n",
      "not all emotions needed found for David Mundell\n",
      "not all emotions needed found for Debbie Abrahams\n",
      "not all emotions needed found for Dr Julian Lewis\n",
      "not all emotions needed found for Dr Liam Fox\n",
      "not all emotions needed found for Earl Cathcart\n",
      "not all emotions needed found for Elizabeth Truss\n",
      "not all emotions needed found for Emma Reynolds\n",
      "not all emotions needed found for Graham Stringer\n",
      "not all emotions needed found for Greg Hands\n",
      "not all emotions needed found for Helen Goodman\n",
      "not all emotions needed found for Helen Hayes\n",
      "not all emotions needed found for Henry Smith\n",
      "not all emotions needed found for Huw Merriman\n",
      "not all emotions needed found for Ian C. Lucas\n",
      "not all emotions needed found for James Brokenshire\n",
      "not all emotions needed found for James Cartlidge\n",
      "not all emotions needed found for James Cleverly\n",
      "not all emotions needed found for James Gray\n",
      "not all emotions needed found for Jeremy Lefroy\n",
      "not all emotions needed found for Jeremy Quin\n",
      "not all emotions needed found for Jo Churchill\n",
      "not all emotions needed found for John Lamont\n",
      "not all emotions needed found for John Redwood\n",
      "not all emotions needed found for Jon Trickett\n",
      "not all emotions needed found for Kate Green\n",
      "not all emotions needed found for Kate Hoey\n",
      "not all emotions needed found for Kevin Foster\n",
      "not all emotions needed found for Lesley Laird\n",
      "not all emotions needed found for Liz McInnes\n",
      "not all emotions needed found for Lord Addington\n",
      "not all emotions needed found for Lord Anderson of Ipswich\n",
      "not all emotions needed found for Lord Ashdown of Norton-sub-Hamdon\n",
      "not all emotions needed found for Lord Bach\n",
      "not all emotions needed found for Lord Bassam of Brighton\n",
      "not all emotions needed found for Lord Berkeley of Knighton\n",
      "not all emotions needed found for Lord Bird\n",
      "not all emotions needed found for Lord Blackwell\n",
      "not all emotions needed found for Lord Blunkett\n",
      "not all emotions needed found for Lord Borwick\n",
      "not all emotions needed found for Lord Broers\n",
      "not all emotions needed found for Lord Brooke of Alverthorpe\n",
      "not all emotions needed found for Lord Burnett\n",
      "not all emotions needed found for Lord Burns\n",
      "not all emotions needed found for Lord Cameron of Dillington\n",
      "not all emotions needed found for Lord Carswell\n",
      "not all emotions needed found for Lord Christopher\n",
      "not all emotions needed found for Lord Clinton-Davis\n",
      "not all emotions needed found for Lord Condon\n",
      "not all emotions needed found for Lord Cotter\n",
      "not all emotions needed found for Lord Cromwell\n",
      "not all emotions needed found for Lord Deben\n",
      "not all emotions needed found for Lord Dunlop\n",
      "not all emotions needed found for Lord Elton\n",
      "not all emotions needed found for Lord Faulks\n",
      "not all emotions needed found for Lord Finkelstein\n",
      "not all emotions needed found for Lord Garel-Jones\n",
      "not all emotions needed found for Lord Griffiths of Burry Port\n",
      "not all emotions needed found for Lord Harrison\n",
      "not all emotions needed found for Lord Holmes of Richmond\n",
      "not all emotions needed found for Lord Hutton of Furness\n",
      "not all emotions needed found for Lord Judge\n",
      "not all emotions needed found for Lord Kakkar\n",
      "not all emotions needed found for Lord Laming\n",
      "not all emotions needed found for Lord Lawson of Blaby\n",
      "not all emotions needed found for Lord Lennie\n",
      "not all emotions needed found for Lord Lexden\n",
      "not all emotions needed found for Lord Luce\n",
      "not all emotions needed found for Lord Macdonald of Tradeston\n",
      "not all emotions needed found for Lord Mackay of Clashfern\n",
      "not all emotions needed found for Lord Mair\n",
      "not all emotions needed found for Lord Marland\n",
      "not all emotions needed found for Lord Maude of Horsham\n",
      "not all emotions needed found for Lord McAvoy\n",
      "not all emotions needed found for Lord McColl of Dulwich\n",
      "not all emotions needed found for Lord McConnell of Glenscorrodale\n",
      "not all emotions needed found for Lord McNicol of West Kilbride\n",
      "not all emotions needed found for Lord Morgan\n",
      "not all emotions needed found for Lord Morris of Aberavon\n",
      "not all emotions needed found for Lord Myners\n",
      "not all emotions needed found for Lord Northbrook\n",
      "not all emotions needed found for Lord Ouseley\n",
      "not all emotions needed found for Lord Palmer\n",
      "not all emotions needed found for Lord Pannick\n",
      "not all emotions needed found for Lord Parekh\n",
      "not all emotions needed found for Lord Popat\n",
      "not all emotions needed found for Lord Price\n",
      "not all emotions needed found for Lord Puttnam\n",
      "not all emotions needed found for Lord Ramsbotham\n",
      "not all emotions needed found for Lord Razzall\n",
      "not all emotions needed found for Lord Richard\n",
      "not all emotions needed found for Lord Risby\n",
      "not all emotions needed found for Lord Selsdon\n",
      "not all emotions needed found for Lord Sharkey\n",
      "not all emotions needed found for Lord Stoneham of Droxford\n",
      "not all emotions needed found for Lord Strasburger\n",
      "not all emotions needed found for Lord Strathclyde\n",
      "not all emotions needed found for Lord Stunell\n",
      "not all emotions needed found for Lord Sugar\n",
      "not all emotions needed found for Lord Taylor of Holbeach\n",
      "not all emotions needed found for Lord Touhig\n",
      "not all emotions needed found for Lord Waldegrave of North Hill\n",
      "not all emotions needed found for Lord Wallace of Tankerness\n",
      "not all emotions needed found for Lord Willetts\n",
      "not all emotions needed found for Lord Wood of Anfield\n",
      "not all emotions needed found for Lord Woolf\n",
      "not all emotions needed found for Lucy Frazer\n",
      "not all emotions needed found for Luke Graham\n",
      "not all emotions needed found for Mark Garnier\n",
      "not all emotions needed found for Mark Pawsey\n",
      "not all emotions needed found for Mary Creagh\n",
      "not all emotions needed found for Matt Warman\n",
      "not all emotions needed found for Matt Western\n",
      "not all emotions needed found for Michael Fabricant\n",
      "not all emotions needed found for Mike Wood\n",
      "not all emotions needed found for Mims Davies\n",
      "not all emotions needed found for Mr David Jones\n",
      "not all emotions needed found for Mr David Lammy\n",
      "not all emotions needed found for Mr David Nuttall\n",
      "not all emotions needed found for Mr Dominic Grieve\n",
      "not all emotions needed found for Mr Edward Vaizey\n",
      "not all emotions needed found for Mr George Howarth\n",
      "not all emotions needed found for Mr Jim Cunningham\n",
      "not all emotions needed found for Mr Jonathan Djanogly\n",
      "not all emotions needed found for Mr Laurence Robertson\n",
      "not all emotions needed found for Mr Peter Bone\n",
      "not all emotions needed found for Mr Philip Hollobone\n",
      "not all emotions needed found for Mr Sam Gyimah\n",
      "not all emotions needed found for Mr Shailesh Vara\n",
      "not all emotions needed found for Mr Simon Clarke\n",
      "not all emotions needed found for Mr Steve Baker\n",
      "not all emotions needed found for Mr William Wragg\n",
      "not all emotions needed found for Mrs Sheryll Murray\n",
      "not all emotions needed found for Nadhim Zahawi\n",
      "not all emotions needed found for Neil Carmichael\n",
      "not all emotions needed found for Nic Dakin\n",
      "not all emotions needed found for Nick Boles\n",
      "not all emotions needed found for Nicky Morgan\n",
      "not all emotions needed found for Nigel Mills\n",
      "not all emotions needed found for Owen Smith\n",
      "not all emotions needed found for Philip Davies\n",
      "not all emotions needed found for Rebecca Pow\n",
      "not all emotions needed found for Richard Graham\n",
      "not all emotions needed found for Robert Halfon\n",
      "not all emotions needed found for Ross Thomson\n",
      "not all emotions needed found for Sandy Martin\n",
      "not all emotions needed found for Simon Hoare\n",
      "not all emotions needed found for Sir Bernard Jenkin\n",
      "not all emotions needed found for Sir Christopher Chope\n",
      "not all emotions needed found for Sir David Amess\n",
      "not all emotions needed found for Sir Desmond Swayne\n",
      "not all emotions needed found for Sir Edward Leigh\n",
      "not all emotions needed found for Sir Gerald Howarth\n",
      "not all emotions needed found for Sir Roger Gale\n",
      "not all emotions needed found for Sir Vince Cable\n",
      "not all emotions needed found for Stephen Kerr\n",
      "not all emotions needed found for Stephen Timms\n",
      "not all emotions needed found for Steve Rotheram\n",
      "not all emotions needed found for Suella Braverman\n",
      "not all emotions needed found for The Countess of Mar\n",
      "not all emotions needed found for The Duke of Montrose\n",
      "not all emotions needed found for The Earl of Courtown\n",
      "not all emotions needed found for The Earl of Dundee\n",
      "not all emotions needed found for The Earl of Erroll\n",
      "not all emotions needed found for The Earl of Glasgow\n",
      "not all emotions needed found for The Earl of Shrewsbury\n",
      "not all emotions needed found for Thelma Walker\n",
      "not all emotions needed found for Tom Pursglove\n",
      "not all emotions needed found for Tom Tugendhat\n",
      "not all emotions needed found for Vernon Coaker\n",
      "not all emotions needed found for Viscount Colville of Culross\n",
      "not all emotions needed found for Viscount Craigavon\n",
      "not all emotions needed found for Viscount Eccles\n",
      "not all emotions needed found for Wendy Morton\n",
      "not all emotions needed found for Wes Streeting\n",
      "not all emotions needed found for Yvette Cooper\n"
     ]
    }
   ],
   "source": [
    "politicians = {}\n",
    "for i in grp:\n",
    "    emotions = list(i[1]['sentiment'].values)\n",
    "    try:\n",
    "        ct = emotions.count('Confident')/emotions.count('Tentative')\n",
    "        js = emotions.count('Joy')/emotions.count('Sadness')\n",
    "        politicians[i[0]] = (ct, js)\n",
    "    except:\n",
    "        print(\"not all emotions needed found for\", i[0][0])"
   ]
  },
  {
   "cell_type": "code",
   "execution_count": 37,
   "metadata": {
    "collapsed": false
   },
   "outputs": [
    {
     "data": {
      "text/plain": [
       "377"
      ]
     },
     "execution_count": 37,
     "metadata": {},
     "output_type": "execute_result"
    }
   ],
   "source": [
    "len(politicians)"
   ]
  },
  {
   "cell_type": "markdown",
   "metadata": {},
   "source": [
    "Po znalezieniu stosunków pozostało 377 polityków. "
   ]
  },
  {
   "cell_type": "code",
   "execution_count": 48,
   "metadata": {
    "collapsed": false,
    "scrolled": true
   },
   "outputs": [
    {
     "data": {
      "text/html": [
       "<div>\n",
       "<style scoped>\n",
       "    .dataframe tbody tr th:only-of-type {\n",
       "        vertical-align: middle;\n",
       "    }\n",
       "\n",
       "    .dataframe tbody tr th {\n",
       "        vertical-align: top;\n",
       "    }\n",
       "\n",
       "    .dataframe thead th {\n",
       "        text-align: right;\n",
       "    }\n",
       "</style>\n",
       "<table border=\"1\" class=\"dataframe\">\n",
       "  <thead>\n",
       "    <tr style=\"text-align: right;\">\n",
       "      <th></th>\n",
       "      <th>name</th>\n",
       "      <th>party</th>\n",
       "      <th>ct_ratio</th>\n",
       "      <th>js_ratio</th>\n",
       "    </tr>\n",
       "  </thead>\n",
       "  <tbody>\n",
       "    <tr>\n",
       "      <th>0</th>\n",
       "      <td>Lord Davies of Stamford</td>\n",
       "      <td>Labour</td>\n",
       "      <td>0.788462</td>\n",
       "      <td>0.913043</td>\n",
       "    </tr>\n",
       "    <tr>\n",
       "      <th>1</th>\n",
       "      <td>Baroness Anelay of St Johns</td>\n",
       "      <td>Conservative</td>\n",
       "      <td>3.038462</td>\n",
       "      <td>4.875000</td>\n",
       "    </tr>\n",
       "    <tr>\n",
       "      <th>2</th>\n",
       "      <td>Lord German</td>\n",
       "      <td>Liberal Democrat</td>\n",
       "      <td>0.933333</td>\n",
       "      <td>1.333333</td>\n",
       "    </tr>\n",
       "    <tr>\n",
       "      <th>3</th>\n",
       "      <td>Lord Tomlinson</td>\n",
       "      <td>Labour</td>\n",
       "      <td>0.500000</td>\n",
       "      <td>4.000000</td>\n",
       "    </tr>\n",
       "    <tr>\n",
       "      <th>4</th>\n",
       "      <td>Baroness Ludford</td>\n",
       "      <td>Liberal Democrat</td>\n",
       "      <td>1.056911</td>\n",
       "      <td>0.674419</td>\n",
       "    </tr>\n",
       "  </tbody>\n",
       "</table>\n",
       "</div>"
      ],
      "text/plain": [
       "                          name             party  ct_ratio  js_ratio\n",
       "0      Lord Davies of Stamford            Labour  0.788462  0.913043\n",
       "1  Baroness Anelay of St Johns      Conservative  3.038462  4.875000\n",
       "2                  Lord German  Liberal Democrat  0.933333  1.333333\n",
       "3               Lord Tomlinson            Labour  0.500000  4.000000\n",
       "4             Baroness Ludford  Liberal Democrat  1.056911  0.674419"
      ]
     },
     "execution_count": 48,
     "metadata": {},
     "output_type": "execute_result"
    }
   ],
   "source": [
    "df3 = pd.DataFrame(columns=['name', 'party', 'ct_ratio', 'js_ratio'])\n",
    "for key, value in politicians.items():\n",
    "    name = key[0]\n",
    "    party = key[1]\n",
    "    ct_ratio = value[0]\n",
    "    js_ratio = value[1]\n",
    "    row = [name, party, ct_ratio, js_ratio]\n",
    "    df3.loc[len(df3)] = row\n",
    "df3.head() # pierwsze 5 rzędów nowego zbioru"
   ]
  },
  {
   "cell_type": "markdown",
   "metadata": {},
   "source": [
    "Dane ze zbioru (df3) przedstawiono na wykresie:"
   ]
  },
  {
   "cell_type": "code",
   "execution_count": 49,
   "metadata": {
    "collapsed": false,
    "scrolled": true
   },
   "outputs": [
    {
     "data": {
      "text/plain": [
       "<seaborn.axisgrid.FacetGrid at 0x7f53ac325cf8>"
      ]
     },
     "execution_count": 49,
     "metadata": {},
     "output_type": "execute_result"
    },
    {
     "data": {
      "image/png": "[encoded data removed]",
      "text/plain": [
       "<Figure size 482.125x360 with 1 Axes>"
      ]
     },
     "metadata": {},
     "output_type": "display_data"
    }
   ],
   "source": [
    "g = sns.catplot(x=\"ct_ratio\", y=\"js_ratio\", hue=\"party\", kind=\"swarm\", data=df3)\n",
    "g.set(xticklabels=[])"
   ]
  },
  {
   "cell_type": "markdown",
   "metadata": {},
   "source": [
    "Z wykresu można odczytać, że dla większości polityków stosunek Joy/Sadness ma niską wartość, poza kilkoma politykami z Partii Konserwatywnej i jednym z Partii Pracy. Można zauważyć, że dla polityków z Partii Konserwatywnej, dla których stosunek Joy/Sadness jest wysoki, wysoki jest również stosunek Confident/Tentative. Można wnioskować, że ta grupa polityków jest zadowolona z Brexitu i pewna jego pozytywnego wpływu."
   ]
  },
  {
   "cell_type": "code",
   "execution_count": 50,
   "metadata": {
    "collapsed": false,
    "scrolled": false
   },
   "outputs": [
    {
     "data": {
      "text/html": [
       "<div>\n",
       "<style scoped>\n",
       "    .dataframe tbody tr th:only-of-type {\n",
       "        vertical-align: middle;\n",
       "    }\n",
       "\n",
       "    .dataframe tbody tr th {\n",
       "        vertical-align: top;\n",
       "    }\n",
       "\n",
       "    .dataframe thead th {\n",
       "        text-align: right;\n",
       "    }\n",
       "</style>\n",
       "<table border=\"1\" class=\"dataframe\">\n",
       "  <thead>\n",
       "    <tr style=\"text-align: right;\">\n",
       "      <th></th>\n",
       "      <th>name</th>\n",
       "      <th>party</th>\n",
       "      <th>ct_ratio</th>\n",
       "      <th>js_ratio</th>\n",
       "    </tr>\n",
       "  </thead>\n",
       "  <tbody>\n",
       "    <tr>\n",
       "      <th>298</th>\n",
       "      <td>Lord Bragg</td>\n",
       "      <td>Labour</td>\n",
       "      <td>1.0</td>\n",
       "      <td>18.0</td>\n",
       "    </tr>\n",
       "  </tbody>\n",
       "</table>\n",
       "</div>"
      ],
      "text/plain": [
       "           name   party  ct_ratio  js_ratio\n",
       "298  Lord Bragg  Labour       1.0      18.0"
      ]
     },
     "execution_count": 50,
     "metadata": {},
     "output_type": "execute_result"
    }
   ],
   "source": [
    "df3[df3.party == 'Labour'].sort_values(by = 'js_ratio', ascending = False).head(1)"
   ]
  },
  {
   "cell_type": "markdown",
   "metadata": {},
   "source": [
    "W Partii Pracy to Lord Bragg jest politykiem, dla którego stosunek Joy/Sadness jest wysoki i odstaje od pozostałych polityków jego ugrupowania."
   ]
  },
  {
   "cell_type": "markdown",
   "metadata": {},
   "source": [
    "Zdecydowano się przeprowadzić analizę dla najbardziej znaczących dla Brexitu polityków (którzy mają co najmniej 100 wypowiedzi), żeby znaleźć polityków odstających od linii partii."
   ]
  },
  {
   "cell_type": "markdown",
   "metadata": {},
   "source": [
    "Funkcja zdefiniowana poniżej pozwala znaleźć stosunki Joy/Sadness, Confident/Tentative, a także średnią wartość sentymentu (z VADERa, z kolumny \"sentiment_simple\") dla polityków, którzy mają od n_min do n_max wypowiedzi."
   ]
  },
  {
   "cell_type": "code",
   "execution_count": 40,
   "metadata": {
    "collapsed": false
   },
   "outputs": [],
   "source": [
    "def get_politicians(n_low, n_high):\n",
    "    dfp = df1[df1['name'].isin(df1['name'].value_counts()[df1['name'].value_counts()>=n_low][df1['name'].value_counts()<n_high].index)]\n",
    "    grp = dfp.groupby(['name', 'party'])\n",
    "    politicians = {}\n",
    "    for i in grp:\n",
    "        emotions = list(i[1]['sentiment'].values)\n",
    "        simple = i[1]['sentiment_simple'].values\n",
    "        try:\n",
    "            ct = emotions.count('Confident')/emotions.count('Tentative')\n",
    "            js = emotions.count('Joy')/emotions.count('Sadness')\n",
    "            politicians[i[0]] = (ct, js, simple.mean())\n",
    "        except:\n",
    "            print(\"not all emotions needed found for\", i[0][0])\n",
    "    dft = pd.DataFrame(columns=['name', 'party', 'ct_ratio', 'js_ratio', 'simple'])\n",
    "    for key, value in politicians.items():\n",
    "        name = key[0]\n",
    "        party = key[1]\n",
    "        ct_ratio = value[0]\n",
    "        js_ratio = value[1]\n",
    "        simple = value[2]\n",
    "        row = [name, party, ct_ratio, js_ratio, simple]\n",
    "        dft.loc[len(dft)] = row\n",
    "    g = sns.catplot(x=\"ct_ratio\", y=\"js_ratio\", hue=\"party\", kind=\"swarm\", data=dft)\n",
    "    g.set(xticklabels=[])\n",
    "    return dft"
   ]
  },
  {
   "cell_type": "markdown",
   "metadata": {},
   "source": [
    "Na wykresie poniżej przedstawiono stosunki Joy/Sadness i Confident/Tentative dla polityków, którzy mają co najmniej 100 wypowiedzi:"
   ]
  },
  {
   "cell_type": "code",
   "execution_count": 41,
   "metadata": {
    "collapsed": false
   },
   "outputs": [
    {
     "data": {
      "image/png": "[encoded data removed]",
      "text/plain": [
       "<Figure size 482.125x360 with 1 Axes>"
      ]
     },
     "metadata": {},
     "output_type": "display_data"
    }
   ],
   "source": [
    "df3 = get_politicians(100,len(df1))"
   ]
  },
  {
   "cell_type": "markdown",
   "metadata": {},
   "source": [
    "Można zauważyć 3 punkty odstające: 1 z Partii Pracy (wysoki stosunek Confident/Tentative), 1 z Liberalnych Demokratów i 1 z bezpartyjnych (wysoki stosunek Joy/Sadness)."
   ]
  },
  {
   "cell_type": "code",
   "execution_count": 779,
   "metadata": {
    "collapsed": false,
    "scrolled": true
   },
   "outputs": [
    {
     "data": {
      "text/html": [
       "<div>\n",
       "<style scoped>\n",
       "    .dataframe tbody tr th:only-of-type {\n",
       "        vertical-align: middle;\n",
       "    }\n",
       "\n",
       "    .dataframe tbody tr th {\n",
       "        vertical-align: top;\n",
       "    }\n",
       "\n",
       "    .dataframe thead th {\n",
       "        text-align: right;\n",
       "    }\n",
       "</style>\n",
       "<table border=\"1\" class=\"dataframe\">\n",
       "  <thead>\n",
       "    <tr style=\"text-align: right;\">\n",
       "      <th></th>\n",
       "      <th>name</th>\n",
       "      <th>party</th>\n",
       "      <th>ct_ratio</th>\n",
       "      <th>js_ratio</th>\n",
       "      <th>simple</th>\n",
       "    </tr>\n",
       "  </thead>\n",
       "  <tbody>\n",
       "    <tr>\n",
       "      <th>14</th>\n",
       "      <td>Lord Judd</td>\n",
       "      <td>Labour</td>\n",
       "      <td>5.583333</td>\n",
       "      <td>1.357143</td>\n",
       "      <td>0.558197</td>\n",
       "    </tr>\n",
       "  </tbody>\n",
       "</table>\n",
       "</div>"
      ],
      "text/plain": [
       "         name   party  ct_ratio  js_ratio    simple\n",
       "14  Lord Judd  Labour  5.583333  1.357143  0.558197"
      ]
     },
     "execution_count": 779,
     "metadata": {},
     "output_type": "execute_result"
    }
   ],
   "source": [
    "df3[df3.party == 'Labour'].sort_values(by = 'ct_ratio', ascending = False).head(1)"
   ]
  },
  {
   "cell_type": "markdown",
   "metadata": {},
   "source": [
    "Punktem odstającym z Partii Pracy jest Lord Judd."
   ]
  },
  {
   "cell_type": "code",
   "execution_count": 42,
   "metadata": {
    "collapsed": false,
    "scrolled": true
   },
   "outputs": [
    {
     "data": {
      "text/html": [
       "<div>\n",
       "<style scoped>\n",
       "    .dataframe tbody tr th:only-of-type {\n",
       "        vertical-align: middle;\n",
       "    }\n",
       "\n",
       "    .dataframe tbody tr th {\n",
       "        vertical-align: top;\n",
       "    }\n",
       "\n",
       "    .dataframe thead th {\n",
       "        text-align: right;\n",
       "    }\n",
       "</style>\n",
       "<table border=\"1\" class=\"dataframe\">\n",
       "  <thead>\n",
       "    <tr style=\"text-align: right;\">\n",
       "      <th></th>\n",
       "      <th>name</th>\n",
       "      <th>party</th>\n",
       "      <th>ct_ratio</th>\n",
       "      <th>js_ratio</th>\n",
       "      <th>simple</th>\n",
       "    </tr>\n",
       "  </thead>\n",
       "  <tbody>\n",
       "    <tr>\n",
       "      <th>11</th>\n",
       "      <td>Lord Judd</td>\n",
       "      <td>Labour</td>\n",
       "      <td>5.583333</td>\n",
       "      <td>1.357143</td>\n",
       "      <td>0.558197</td>\n",
       "    </tr>\n",
       "  </tbody>\n",
       "</table>\n",
       "</div>"
      ],
      "text/plain": [
       "         name   party  ct_ratio  js_ratio    simple\n",
       "11  Lord Judd  Labour  5.583333  1.357143  0.558197"
      ]
     },
     "execution_count": 42,
     "metadata": {},
     "output_type": "execute_result"
    }
   ],
   "source": [
    "df3[df3.party == 'Labour'].sort_values(by = 'js_ratio', ascending = False).head(1)"
   ]
  },
  {
   "cell_type": "markdown",
   "metadata": {},
   "source": [
    "Jest to także polityk, dla którego stosunek Joy/Sadness wśród najbardziej znaczących polityków Partii Pracy jest najwyższy."
   ]
  },
  {
   "cell_type": "code",
   "execution_count": 780,
   "metadata": {
    "collapsed": false,
    "scrolled": false
   },
   "outputs": [
    {
     "data": {
      "text/html": [
       "<div>\n",
       "<style scoped>\n",
       "    .dataframe tbody tr th:only-of-type {\n",
       "        vertical-align: middle;\n",
       "    }\n",
       "\n",
       "    .dataframe tbody tr th {\n",
       "        vertical-align: top;\n",
       "    }\n",
       "\n",
       "    .dataframe thead th {\n",
       "        text-align: right;\n",
       "    }\n",
       "</style>\n",
       "<table border=\"1\" class=\"dataframe\">\n",
       "  <thead>\n",
       "    <tr style=\"text-align: right;\">\n",
       "      <th></th>\n",
       "      <th>name</th>\n",
       "      <th>party</th>\n",
       "      <th>ct_ratio</th>\n",
       "      <th>js_ratio</th>\n",
       "      <th>simple</th>\n",
       "    </tr>\n",
       "  </thead>\n",
       "  <tbody>\n",
       "    <tr>\n",
       "      <th>19</th>\n",
       "      <td>Lord Teverson</td>\n",
       "      <td>Liberal Democrat</td>\n",
       "      <td>0.977273</td>\n",
       "      <td>2.909091</td>\n",
       "      <td>0.629307</td>\n",
       "    </tr>\n",
       "  </tbody>\n",
       "</table>\n",
       "</div>"
      ],
      "text/plain": [
       "             name             party  ct_ratio  js_ratio    simple\n",
       "19  Lord Teverson  Liberal Democrat  0.977273  2.909091  0.629307"
      ]
     },
     "execution_count": 780,
     "metadata": {},
     "output_type": "execute_result"
    }
   ],
   "source": [
    "df3[df3.party == 'Liberal Democrat'].sort_values(by = 'js_ratio', ascending = False).head(1)"
   ]
  },
  {
   "cell_type": "code",
   "execution_count": 781,
   "metadata": {
    "collapsed": false,
    "scrolled": true
   },
   "outputs": [
    {
     "data": {
      "text/html": [
       "<div>\n",
       "<style scoped>\n",
       "    .dataframe tbody tr th:only-of-type {\n",
       "        vertical-align: middle;\n",
       "    }\n",
       "\n",
       "    .dataframe tbody tr th {\n",
       "        vertical-align: top;\n",
       "    }\n",
       "\n",
       "    .dataframe thead th {\n",
       "        text-align: right;\n",
       "    }\n",
       "</style>\n",
       "<table border=\"1\" class=\"dataframe\">\n",
       "  <thead>\n",
       "    <tr style=\"text-align: right;\">\n",
       "      <th></th>\n",
       "      <th>name</th>\n",
       "      <th>party</th>\n",
       "      <th>ct_ratio</th>\n",
       "      <th>js_ratio</th>\n",
       "      <th>simple</th>\n",
       "    </tr>\n",
       "  </thead>\n",
       "  <tbody>\n",
       "    <tr>\n",
       "      <th>5</th>\n",
       "      <td>The Earl of Kinnoull</td>\n",
       "      <td>Crossbench</td>\n",
       "      <td>1.515152</td>\n",
       "      <td>1.692308</td>\n",
       "      <td>0.55329</td>\n",
       "    </tr>\n",
       "  </tbody>\n",
       "</table>\n",
       "</div>"
      ],
      "text/plain": [
       "                   name       party  ct_ratio  js_ratio   simple\n",
       "5  The Earl of Kinnoull  Crossbench  1.515152  1.692308  0.55329"
      ]
     },
     "execution_count": 781,
     "metadata": {},
     "output_type": "execute_result"
    }
   ],
   "source": [
    "df3[df3.party == 'Crossbench'].sort_values(by = 'js_ratio', ascending = False).head(1)"
   ]
  },
  {
   "cell_type": "markdown",
   "metadata": {},
   "source": [
    "Lord Teverson (Liberalni Demokraci) i Earl of Kinnoull (bezpartyjni) to najbardziej zadowoleni z Brexitu przedstawiciele swoich ugrupowań w grupie polityków, którzy mają co najmniej 100 wypowiedzi."
   ]
  },
  {
   "cell_type": "code",
   "execution_count": 782,
   "metadata": {
    "collapsed": false,
    "scrolled": true
   },
   "outputs": [
    {
     "data": {
      "text/html": [
       "<div>\n",
       "<style scoped>\n",
       "    .dataframe tbody tr th:only-of-type {\n",
       "        vertical-align: middle;\n",
       "    }\n",
       "\n",
       "    .dataframe tbody tr th {\n",
       "        vertical-align: top;\n",
       "    }\n",
       "\n",
       "    .dataframe thead th {\n",
       "        text-align: right;\n",
       "    }\n",
       "</style>\n",
       "<table border=\"1\" class=\"dataframe\">\n",
       "  <thead>\n",
       "    <tr style=\"text-align: right;\">\n",
       "      <th></th>\n",
       "      <th>name</th>\n",
       "      <th>party</th>\n",
       "      <th>ct_ratio</th>\n",
       "      <th>js_ratio</th>\n",
       "      <th>simple</th>\n",
       "    </tr>\n",
       "  </thead>\n",
       "  <tbody>\n",
       "    <tr>\n",
       "      <th>0</th>\n",
       "      <td>Baroness Evans of Bowes Park</td>\n",
       "      <td>Conservative</td>\n",
       "      <td>4.111111</td>\n",
       "      <td>3.000000</td>\n",
       "      <td>0.743087</td>\n",
       "    </tr>\n",
       "    <tr>\n",
       "      <th>2</th>\n",
       "      <td>Baroness Anelay of St Johns</td>\n",
       "      <td>Conservative</td>\n",
       "      <td>3.038462</td>\n",
       "      <td>4.875000</td>\n",
       "      <td>0.754193</td>\n",
       "    </tr>\n",
       "    <tr>\n",
       "      <th>4</th>\n",
       "      <td>Lord Bridges of Headley</td>\n",
       "      <td>Conservative</td>\n",
       "      <td>3.454545</td>\n",
       "      <td>1.666667</td>\n",
       "      <td>0.676250</td>\n",
       "    </tr>\n",
       "    <tr>\n",
       "      <th>6</th>\n",
       "      <td>Baroness Williams of Trafford</td>\n",
       "      <td>Conservative</td>\n",
       "      <td>2.235294</td>\n",
       "      <td>2.500000</td>\n",
       "      <td>0.646203</td>\n",
       "    </tr>\n",
       "    <tr>\n",
       "      <th>7</th>\n",
       "      <td>Lord Henley</td>\n",
       "      <td>Conservative</td>\n",
       "      <td>4.000000</td>\n",
       "      <td>10.666667</td>\n",
       "      <td>0.828196</td>\n",
       "    </tr>\n",
       "    <tr>\n",
       "      <th>10</th>\n",
       "      <td>Baroness Goldie</td>\n",
       "      <td>Conservative</td>\n",
       "      <td>3.640000</td>\n",
       "      <td>2.666667</td>\n",
       "      <td>0.835838</td>\n",
       "    </tr>\n",
       "    <tr>\n",
       "      <th>11</th>\n",
       "      <td>Lord Keen of Elie</td>\n",
       "      <td>Conservative</td>\n",
       "      <td>1.127660</td>\n",
       "      <td>3.875000</td>\n",
       "      <td>0.674399</td>\n",
       "    </tr>\n",
       "    <tr>\n",
       "      <th>12</th>\n",
       "      <td>Lord Gardiner of Kimble</td>\n",
       "      <td>Conservative</td>\n",
       "      <td>8.333333</td>\n",
       "      <td>6.125000</td>\n",
       "      <td>0.863342</td>\n",
       "    </tr>\n",
       "    <tr>\n",
       "      <th>17</th>\n",
       "      <td>Lord Callanan</td>\n",
       "      <td>Conservative</td>\n",
       "      <td>2.725000</td>\n",
       "      <td>2.972222</td>\n",
       "      <td>0.666017</td>\n",
       "    </tr>\n",
       "    <tr>\n",
       "      <th>23</th>\n",
       "      <td>Lord O'Shaughnessy</td>\n",
       "      <td>Conservative</td>\n",
       "      <td>2.041667</td>\n",
       "      <td>2.416667</td>\n",
       "      <td>0.754251</td>\n",
       "    </tr>\n",
       "  </tbody>\n",
       "</table>\n",
       "</div>"
      ],
      "text/plain": [
       "                             name         party  ct_ratio   js_ratio    simple\n",
       "0    Baroness Evans of Bowes Park  Conservative  4.111111   3.000000  0.743087\n",
       "2     Baroness Anelay of St Johns  Conservative  3.038462   4.875000  0.754193\n",
       "4         Lord Bridges of Headley  Conservative  3.454545   1.666667  0.676250\n",
       "6   Baroness Williams of Trafford  Conservative  2.235294   2.500000  0.646203\n",
       "7                     Lord Henley  Conservative  4.000000  10.666667  0.828196\n",
       "10                Baroness Goldie  Conservative  3.640000   2.666667  0.835838\n",
       "11              Lord Keen of Elie  Conservative  1.127660   3.875000  0.674399\n",
       "12        Lord Gardiner of Kimble  Conservative  8.333333   6.125000  0.863342\n",
       "17                  Lord Callanan  Conservative  2.725000   2.972222  0.666017\n",
       "23             Lord O'Shaughnessy  Conservative  2.041667   2.416667  0.754251"
      ]
     },
     "execution_count": 782,
     "metadata": {},
     "output_type": "execute_result"
    }
   ],
   "source": [
    "df3[df3.party == 'Conservative']"
   ]
  },
  {
   "cell_type": "markdown",
   "metadata": {},
   "source": [
    "Wśród polityków Partii Konserwatywnej Lord Henley i Lord Gardiner of Kimble są najbardziej wyróżniającymi się osobami (kolejno: najwyższy stosunkek Joy/Sadness i Confident/Tentative)."
   ]
  },
  {
   "cell_type": "code",
   "execution_count": 44,
   "metadata": {
    "collapsed": false,
    "scrolled": true
   },
   "outputs": [
    {
     "data": {
      "image/png": "[encoded data removed]",
      "text/plain": [
       "<Figure size 482.125x360 with 1 Axes>"
      ]
     },
     "metadata": {},
     "output_type": "display_data"
    }
   ],
   "source": [
    "dft = get_politicians(50,100)"
   ]
  },
  {
   "cell_type": "markdown",
   "metadata": {},
   "source": [
    "W grupie polityków, którzy mają od 50 do 99 wypowiedzi, jest 1 osoba z Partii Konserwatywnej, która ma bardzo niską wartość dla obu stosunków, jest to Baroness Wheatcroft:"
   ]
  },
  {
   "cell_type": "code",
   "execution_count": 45,
   "metadata": {
    "collapsed": false,
    "scrolled": true
   },
   "outputs": [
    {
     "data": {
      "text/html": [
       "<div>\n",
       "<style scoped>\n",
       "    .dataframe tbody tr th:only-of-type {\n",
       "        vertical-align: middle;\n",
       "    }\n",
       "\n",
       "    .dataframe tbody tr th {\n",
       "        vertical-align: top;\n",
       "    }\n",
       "\n",
       "    .dataframe thead th {\n",
       "        text-align: right;\n",
       "    }\n",
       "</style>\n",
       "<table border=\"1\" class=\"dataframe\">\n",
       "  <thead>\n",
       "    <tr style=\"text-align: right;\">\n",
       "      <th></th>\n",
       "      <th>name</th>\n",
       "      <th>party</th>\n",
       "      <th>ct_ratio</th>\n",
       "      <th>js_ratio</th>\n",
       "      <th>simple</th>\n",
       "    </tr>\n",
       "  </thead>\n",
       "  <tbody>\n",
       "    <tr>\n",
       "      <th>34</th>\n",
       "      <td>Baroness Wheatcroft</td>\n",
       "      <td>Conservative</td>\n",
       "      <td>0.4375</td>\n",
       "      <td>0.333333</td>\n",
       "      <td>0.23841</td>\n",
       "    </tr>\n",
       "  </tbody>\n",
       "</table>\n",
       "</div>"
      ],
      "text/plain": [
       "                   name         party  ct_ratio  js_ratio   simple\n",
       "34  Baroness Wheatcroft  Conservative    0.4375  0.333333  0.23841"
      ]
     },
     "execution_count": 45,
     "metadata": {},
     "output_type": "execute_result"
    }
   ],
   "source": [
    "dft[dft.party == 'Conservative'].sort_values(by = 'ct_ratio').head(1)"
   ]
  },
  {
   "cell_type": "markdown",
   "metadata": {},
   "source": [
    "Wśród polityków Partii Pracy z tej grupy 1 polityk (Lord Mendelsohn) ma wysoki stosunek Joy/Sadness i jednocześnie niski Confident/Tentative:"
   ]
  },
  {
   "cell_type": "code",
   "execution_count": 785,
   "metadata": {
    "collapsed": false,
    "scrolled": true
   },
   "outputs": [
    {
     "data": {
      "text/html": [
       "<div>\n",
       "<style scoped>\n",
       "    .dataframe tbody tr th:only-of-type {\n",
       "        vertical-align: middle;\n",
       "    }\n",
       "\n",
       "    .dataframe tbody tr th {\n",
       "        vertical-align: top;\n",
       "    }\n",
       "\n",
       "    .dataframe thead th {\n",
       "        text-align: right;\n",
       "    }\n",
       "</style>\n",
       "<table border=\"1\" class=\"dataframe\">\n",
       "  <thead>\n",
       "    <tr style=\"text-align: right;\">\n",
       "      <th></th>\n",
       "      <th>name</th>\n",
       "      <th>party</th>\n",
       "      <th>ct_ratio</th>\n",
       "      <th>js_ratio</th>\n",
       "      <th>simple</th>\n",
       "    </tr>\n",
       "  </thead>\n",
       "  <tbody>\n",
       "    <tr>\n",
       "      <th>30</th>\n",
       "      <td>Lord Mendelsohn</td>\n",
       "      <td>Labour</td>\n",
       "      <td>0.526316</td>\n",
       "      <td>4.500000</td>\n",
       "      <td>0.581889</td>\n",
       "    </tr>\n",
       "    <tr>\n",
       "      <th>29</th>\n",
       "      <td>Lord Hunt of Chesterton</td>\n",
       "      <td>Labour</td>\n",
       "      <td>1.400000</td>\n",
       "      <td>3.333333</td>\n",
       "      <td>0.629633</td>\n",
       "    </tr>\n",
       "    <tr>\n",
       "      <th>20</th>\n",
       "      <td>Lord Adonis</td>\n",
       "      <td>Labour</td>\n",
       "      <td>0.680000</td>\n",
       "      <td>2.600000</td>\n",
       "      <td>0.197895</td>\n",
       "    </tr>\n",
       "    <tr>\n",
       "      <th>17</th>\n",
       "      <td>Lord Collins of Highbury</td>\n",
       "      <td>Labour</td>\n",
       "      <td>1.263158</td>\n",
       "      <td>2.000000</td>\n",
       "      <td>0.515651</td>\n",
       "    </tr>\n",
       "    <tr>\n",
       "      <th>1</th>\n",
       "      <td>Baroness Jones of Whitchurch</td>\n",
       "      <td>Labour</td>\n",
       "      <td>0.692308</td>\n",
       "      <td>1.714286</td>\n",
       "      <td>0.667305</td>\n",
       "    </tr>\n",
       "    <tr>\n",
       "      <th>23</th>\n",
       "      <td>Lord Kennedy of Southwark</td>\n",
       "      <td>Labour</td>\n",
       "      <td>1.823529</td>\n",
       "      <td>1.666667</td>\n",
       "      <td>0.554456</td>\n",
       "    </tr>\n",
       "  </tbody>\n",
       "</table>\n",
       "</div>"
      ],
      "text/plain": [
       "                            name   party  ct_ratio  js_ratio    simple\n",
       "30               Lord Mendelsohn  Labour  0.526316  4.500000  0.581889\n",
       "29       Lord Hunt of Chesterton  Labour  1.400000  3.333333  0.629633\n",
       "20                   Lord Adonis  Labour  0.680000  2.600000  0.197895\n",
       "17      Lord Collins of Highbury  Labour  1.263158  2.000000  0.515651\n",
       "1   Baroness Jones of Whitchurch  Labour  0.692308  1.714286  0.667305\n",
       "23     Lord Kennedy of Southwark  Labour  1.823529  1.666667  0.554456"
      ]
     },
     "execution_count": 785,
     "metadata": {},
     "output_type": "execute_result"
    }
   ],
   "source": [
    "dft[dft.party == 'Labour'].sort_values(by = 'js_ratio', ascending = False).head(6)"
   ]
  },
  {
   "cell_type": "markdown",
   "metadata": {},
   "source": [
    "### 2.3. Zmiana sentymentu w czasie"
   ]
  },
  {
   "cell_type": "code",
   "execution_count": 22,
   "metadata": {
    "collapsed": false,
    "scrolled": true
   },
   "outputs": [
    {
     "data": {
      "text/plain": [
       "<matplotlib.axes._subplots.AxesSubplot at 0x7faa44d319b0>"
      ]
     },
     "execution_count": 22,
     "metadata": {},
     "output_type": "execute_result"
    },
    {
     "data": {
      "image/png": "[encoded data removed]",
      "text/plain": [
       "<Figure size 864x648 with 2 Axes>"
      ]
     },
     "metadata": {},
     "output_type": "display_data"
    }
   ],
   "source": [
    "x, y, hue = \"year\", \"prop\", \"sentiment\"\n",
    "\n",
    "f, axes = plt.subplots(1, 2, figsize=(12, 9))\n",
    "sns.countplot(x=x, hue=hue, data=df1, ax=axes[0])\n",
    "\n",
    "prop_df = (df1[x]\n",
    "           .groupby(df1[hue])\n",
    "           .value_counts(normalize=True)\n",
    "           .rename(y)\n",
    "           .reset_index())\n",
    "\n",
    "sns.barplot(x=x, y=y, hue=hue, data=prop_df, ax=axes[1])"
   ]
  },
  {
   "cell_type": "markdown",
   "metadata": {},
   "source": [
    "W latach 2016-2018 było więcej wypowiedzi Confident (pewnych) niż Tentative (niepewnych). Można jednak zauważyć, że różnica liczby wypowiedzi Confident od liczby wypowiedzi Tentative znacznie się zmniejszyła w roku 2018 w porównaniu do roku 2017. W roku 2019 (początek roku) wypowiedzi Tentative jest więcej niż Confident. Analogiczne zachowanie można zaobserwować dla emocji Joy (radość) i Sadness (smutek). Różnica między nimi zmniejszyła się w 2018 roku, w 2019 liczba wypowiedzi z Sadness jako główną emocją jest wyższa od liczby wypowiedzi z Joy jako główną emocją.  "
   ]
  },
  {
   "cell_type": "markdown",
   "metadata": {},
   "source": [
    "### 2.4. Analiza sentymentu z użyciem VADERa"
   ]
  },
  {
   "cell_type": "code",
   "execution_count": 787,
   "metadata": {
    "collapsed": false,
    "scrolled": true
   },
   "outputs": [
    {
     "data": {
      "text/plain": [
       "<matplotlib.axes._subplots.AxesSubplot at 0x7fb6d7f9a908>"
      ]
     },
     "execution_count": 787,
     "metadata": {},
     "output_type": "execute_result"
    },
    {
     "data": {
      "image/png": "[encoded data removed]",
      "text/plain": [
       "<Figure size 720x720 with 1 Axes>"
      ]
     },
     "metadata": {},
     "output_type": "display_data"
    }
   ],
   "source": [
    "sns.barplot(x=\"party\", y=\"sentiment_simple\", data=df1)"
   ]
  },
  {
   "cell_type": "markdown",
   "metadata": {},
   "source": [
    "Dla polityków Partii Konserwatywnej średni znaleziony sentyment (z możliwego zakresu od -1 do 1) jest wyższy niż w pozostałych 3 grupach."
   ]
  },
  {
   "cell_type": "code",
   "execution_count": 172,
   "metadata": {
    "collapsed": false,
    "scrolled": true
   },
   "outputs": [
    {
     "data": {
      "text/plain": [
       "<matplotlib.axes._subplots.AxesSubplot at 0x7fb6e1136eb8>"
      ]
     },
     "execution_count": 172,
     "metadata": {},
     "output_type": "execute_result"
    },
    {
     "data": {
      "image/png": "[encoded data removed]",
      "text/plain": [
       "<Figure size 720x720 with 1 Axes>"
      ]
     },
     "metadata": {},
     "output_type": "display_data"
    }
   ],
   "source": [
    "sns.lineplot(x='year', y='sentiment_simple', hue='party', data=df1)"
   ]
  },
  {
   "cell_type": "markdown",
   "metadata": {},
   "source": [
    "W każdym roku wartość sentymentu dla Partii Konserwatywnej była wyższa niż jego wartość w pozostałych grupach. Od roku 2017 średnia wartość sentymentu spada w każdej z grup, także w Partii Konserwatywnej."
   ]
  },
  {
   "cell_type": "markdown",
   "metadata": {},
   "source": [
    "Średnią wartość sentymentu dodano jako 3 parametr (obok stosunków Joy/Sadness i Confident/Tentative) i przeanalizowano polityków, którzy mają co najmniej 50 wypowiedzi."
   ]
  },
  {
   "cell_type": "code",
   "execution_count": 53,
   "metadata": {
    "collapsed": false,
    "scrolled": true
   },
   "outputs": [
    {
     "data": {
      "image/png": "[encoded data removed]",
      "text/plain": [
       "<Figure size 482.125x360 with 1 Axes>"
      ]
     },
     "metadata": {},
     "output_type": "display_data"
    }
   ],
   "source": [
    "df3 = get_politicians(50,len(df1))"
   ]
  },
  {
   "cell_type": "code",
   "execution_count": 55,
   "metadata": {
    "collapsed": false
   },
   "outputs": [],
   "source": [
    "df3.party = pd.Categorical(df3.party)\n",
    "df3['code'] = df3.party.cat.codes"
   ]
  },
  {
   "cell_type": "code",
   "execution_count": 870,
   "metadata": {
    "collapsed": false,
    "scrolled": false
   },
   "outputs": [
    {
     "data": {
      "image/png": "[encoded data removed]",
      "text/plain": [
       "<Figure size 720x720 with 2 Axes>"
      ]
     },
     "metadata": {},
     "output_type": "display_data"
    }
   ],
   "source": [
    "from mpl_toolkits.mplot3d import Axes3D\n",
    "\n",
    "x = df3['ct_ratio'].values\n",
    "y = df3['js_ratio'].values\n",
    "z = df3['simple'].values\n",
    "b2 = df3['code'].values\n",
    "fig = plt.figure()\n",
    "ax = fig.add_subplot(111,projection='3d')\n",
    "line = ax.scatter(x, y ,z , c=b2, s=1500, marker='.', edgecolors='none', depthshade=0)\n",
    "cb = plt.colorbar(line)"
   ]
  },
  {
   "cell_type": "markdown",
   "metadata": {},
   "source": [
    "3 polityków Partii Pracy ma odstającą (wysoką średnią wartość sentymentu):"
   ]
  },
  {
   "cell_type": "code",
   "execution_count": 57,
   "metadata": {
    "collapsed": false,
    "scrolled": true
   },
   "outputs": [
    {
     "data": {
      "text/html": [
       "<div>\n",
       "<style scoped>\n",
       "    .dataframe tbody tr th:only-of-type {\n",
       "        vertical-align: middle;\n",
       "    }\n",
       "\n",
       "    .dataframe tbody tr th {\n",
       "        vertical-align: top;\n",
       "    }\n",
       "\n",
       "    .dataframe thead th {\n",
       "        text-align: right;\n",
       "    }\n",
       "</style>\n",
       "<table border=\"1\" class=\"dataframe\">\n",
       "  <thead>\n",
       "    <tr style=\"text-align: right;\">\n",
       "      <th></th>\n",
       "      <th>name</th>\n",
       "      <th>party</th>\n",
       "      <th>ct_ratio</th>\n",
       "      <th>js_ratio</th>\n",
       "      <th>simple</th>\n",
       "      <th>code</th>\n",
       "    </tr>\n",
       "  </thead>\n",
       "  <tbody>\n",
       "    <tr>\n",
       "      <th>63</th>\n",
       "      <td>Baroness Jones of Whitchurch</td>\n",
       "      <td>Labour</td>\n",
       "      <td>0.692308</td>\n",
       "      <td>1.714286</td>\n",
       "      <td>0.667305</td>\n",
       "      <td>2</td>\n",
       "    </tr>\n",
       "    <tr>\n",
       "      <th>35</th>\n",
       "      <td>Lord Hunt of Chesterton</td>\n",
       "      <td>Labour</td>\n",
       "      <td>1.400000</td>\n",
       "      <td>3.333333</td>\n",
       "      <td>0.629633</td>\n",
       "      <td>2</td>\n",
       "    </tr>\n",
       "    <tr>\n",
       "      <th>2</th>\n",
       "      <td>Lord Mendelsohn</td>\n",
       "      <td>Labour</td>\n",
       "      <td>0.526316</td>\n",
       "      <td>4.500000</td>\n",
       "      <td>0.581889</td>\n",
       "      <td>2</td>\n",
       "    </tr>\n",
       "  </tbody>\n",
       "</table>\n",
       "</div>"
      ],
      "text/plain": [
       "                            name   party  ct_ratio  js_ratio    simple  code\n",
       "63  Baroness Jones of Whitchurch  Labour  0.692308  1.714286  0.667305     2\n",
       "35       Lord Hunt of Chesterton  Labour  1.400000  3.333333  0.629633     2\n",
       "2                Lord Mendelsohn  Labour  0.526316  4.500000  0.581889     2"
      ]
     },
     "execution_count": 57,
     "metadata": {},
     "output_type": "execute_result"
    }
   ],
   "source": [
    "df3[df3.party == 'Labour'].sort_values(by = 'simple', ascending = False).head(3)"
   ]
  },
  {
   "cell_type": "code",
   "execution_count": 66,
   "metadata": {
    "collapsed": false,
    "scrolled": true
   },
   "outputs": [
    {
     "data": {
      "text/html": [
       "<div>\n",
       "<style scoped>\n",
       "    .dataframe tbody tr th:only-of-type {\n",
       "        vertical-align: middle;\n",
       "    }\n",
       "\n",
       "    .dataframe tbody tr th {\n",
       "        vertical-align: top;\n",
       "    }\n",
       "\n",
       "    .dataframe thead th {\n",
       "        text-align: right;\n",
       "    }\n",
       "</style>\n",
       "<table border=\"1\" class=\"dataframe\">\n",
       "  <thead>\n",
       "    <tr style=\"text-align: right;\">\n",
       "      <th></th>\n",
       "      <th>name</th>\n",
       "      <th>party</th>\n",
       "      <th>ct_ratio</th>\n",
       "      <th>js_ratio</th>\n",
       "      <th>simple</th>\n",
       "      <th>code</th>\n",
       "    </tr>\n",
       "  </thead>\n",
       "  <tbody>\n",
       "    <tr>\n",
       "      <th>18</th>\n",
       "      <td>Lord Judd</td>\n",
       "      <td>Labour</td>\n",
       "      <td>5.583333</td>\n",
       "      <td>1.357143</td>\n",
       "      <td>0.558197</td>\n",
       "      <td>2</td>\n",
       "    </tr>\n",
       "  </tbody>\n",
       "</table>\n",
       "</div>"
      ],
      "text/plain": [
       "         name   party  ct_ratio  js_ratio    simple  code\n",
       "18  Lord Judd  Labour  5.583333  1.357143  0.558197     2"
      ]
     },
     "execution_count": 66,
     "metadata": {},
     "output_type": "execute_result"
    }
   ],
   "source": [
    "df3[df3.party == 'Labour'].sort_values(by = 'ct_ratio', ascending = False).head(1)"
   ]
  },
  {
   "cell_type": "markdown",
   "metadata": {},
   "source": [
    "Wcześniej znaleziony Lord Judd, dla którego wartości stosunków Joy/Sadness i Confident/Tentative były wysokie, ma także dość wysoką średnią wartość sentymentu."
   ]
  },
  {
   "cell_type": "markdown",
   "metadata": {},
   "source": [
    "Jeden z polityków Partii Konserwatywnej znacznie odstaje od linii partii i wartości wszystkich 3 parametrów są dla niego niskie. Jest to wcześniej znaleziona Baroness Wheatcroft: "
   ]
  },
  {
   "cell_type": "code",
   "execution_count": 63,
   "metadata": {
    "collapsed": false,
    "scrolled": false
   },
   "outputs": [
    {
     "data": {
      "text/html": [
       "<div>\n",
       "<style scoped>\n",
       "    .dataframe tbody tr th:only-of-type {\n",
       "        vertical-align: middle;\n",
       "    }\n",
       "\n",
       "    .dataframe tbody tr th {\n",
       "        vertical-align: top;\n",
       "    }\n",
       "\n",
       "    .dataframe thead th {\n",
       "        text-align: right;\n",
       "    }\n",
       "</style>\n",
       "<table border=\"1\" class=\"dataframe\">\n",
       "  <thead>\n",
       "    <tr style=\"text-align: right;\">\n",
       "      <th></th>\n",
       "      <th>name</th>\n",
       "      <th>party</th>\n",
       "      <th>ct_ratio</th>\n",
       "      <th>js_ratio</th>\n",
       "      <th>simple</th>\n",
       "      <th>code</th>\n",
       "    </tr>\n",
       "  </thead>\n",
       "  <tbody>\n",
       "    <tr>\n",
       "      <th>59</th>\n",
       "      <td>Baroness Wheatcroft</td>\n",
       "      <td>Conservative</td>\n",
       "      <td>0.4375</td>\n",
       "      <td>0.333333</td>\n",
       "      <td>0.23841</td>\n",
       "      <td>0</td>\n",
       "    </tr>\n",
       "  </tbody>\n",
       "</table>\n",
       "</div>"
      ],
      "text/plain": [
       "                   name         party  ct_ratio  js_ratio   simple  code\n",
       "59  Baroness Wheatcroft  Conservative    0.4375  0.333333  0.23841     0"
      ]
     },
     "execution_count": 63,
     "metadata": {},
     "output_type": "execute_result"
    }
   ],
   "source": [
    "df3[df3.party == 'Conservative'].sort_values(by = 'simple').head(1)"
   ]
  },
  {
   "cell_type": "markdown",
   "metadata": {},
   "source": [
    "Wśród Liberalnych Demokratów są 3 osoby, które mają wysoką średnią wartość sentymentu (wcześniej znaleziony Lord Teverson, Baroness Smith of Newnham i Baroness Falkner of Margravine, wartości pozostałych współczynników dla Baroness Smith of Newnham są jednak niskie):"
   ]
  },
  {
   "cell_type": "code",
   "execution_count": 874,
   "metadata": {
    "collapsed": false,
    "scrolled": true
   },
   "outputs": [
    {
     "data": {
      "text/html": [
       "<div>\n",
       "<style scoped>\n",
       "    .dataframe tbody tr th:only-of-type {\n",
       "        vertical-align: middle;\n",
       "    }\n",
       "\n",
       "    .dataframe tbody tr th {\n",
       "        vertical-align: top;\n",
       "    }\n",
       "\n",
       "    .dataframe thead th {\n",
       "        text-align: right;\n",
       "    }\n",
       "</style>\n",
       "<table border=\"1\" class=\"dataframe\">\n",
       "  <thead>\n",
       "    <tr style=\"text-align: right;\">\n",
       "      <th></th>\n",
       "      <th>name</th>\n",
       "      <th>party</th>\n",
       "      <th>ct_ratio</th>\n",
       "      <th>js_ratio</th>\n",
       "      <th>simple</th>\n",
       "      <th>code</th>\n",
       "    </tr>\n",
       "  </thead>\n",
       "  <tbody>\n",
       "    <tr>\n",
       "      <th>8</th>\n",
       "      <td>Lord Teverson</td>\n",
       "      <td>Liberal Democrat</td>\n",
       "      <td>0.977273</td>\n",
       "      <td>2.909091</td>\n",
       "      <td>0.629307</td>\n",
       "      <td>3</td>\n",
       "    </tr>\n",
       "    <tr>\n",
       "      <th>25</th>\n",
       "      <td>Baroness Smith of Newnham</td>\n",
       "      <td>Liberal Democrat</td>\n",
       "      <td>0.359375</td>\n",
       "      <td>0.400000</td>\n",
       "      <td>0.596356</td>\n",
       "      <td>3</td>\n",
       "    </tr>\n",
       "    <tr>\n",
       "      <th>35</th>\n",
       "      <td>Baroness Falkner of Margravine</td>\n",
       "      <td>Liberal Democrat</td>\n",
       "      <td>0.948718</td>\n",
       "      <td>0.875000</td>\n",
       "      <td>0.560322</td>\n",
       "      <td>3</td>\n",
       "    </tr>\n",
       "    <tr>\n",
       "      <th>10</th>\n",
       "      <td>Baroness Miller of Chilthorne Domer</td>\n",
       "      <td>Liberal Democrat</td>\n",
       "      <td>1.250000</td>\n",
       "      <td>1.857143</td>\n",
       "      <td>0.487280</td>\n",
       "      <td>3</td>\n",
       "    </tr>\n",
       "    <tr>\n",
       "      <th>68</th>\n",
       "      <td>Lord Campbell of Pittenweem</td>\n",
       "      <td>Liberal Democrat</td>\n",
       "      <td>0.280000</td>\n",
       "      <td>0.888889</td>\n",
       "      <td>0.465892</td>\n",
       "      <td>3</td>\n",
       "    </tr>\n",
       "    <tr>\n",
       "      <th>19</th>\n",
       "      <td>Lord Shipley</td>\n",
       "      <td>Liberal Democrat</td>\n",
       "      <td>1.647059</td>\n",
       "      <td>0.888889</td>\n",
       "      <td>0.331030</td>\n",
       "      <td>3</td>\n",
       "    </tr>\n",
       "    <tr>\n",
       "      <th>2</th>\n",
       "      <td>Lord Wallace of Saltaire</td>\n",
       "      <td>Liberal Democrat</td>\n",
       "      <td>0.660714</td>\n",
       "      <td>1.125000</td>\n",
       "      <td>0.324561</td>\n",
       "      <td>3</td>\n",
       "    </tr>\n",
       "    <tr>\n",
       "      <th>55</th>\n",
       "      <td>Baroness Ludford</td>\n",
       "      <td>Liberal Democrat</td>\n",
       "      <td>1.056911</td>\n",
       "      <td>0.674419</td>\n",
       "      <td>0.282158</td>\n",
       "      <td>3</td>\n",
       "    </tr>\n",
       "  </tbody>\n",
       "</table>\n",
       "</div>"
      ],
      "text/plain": [
       "                                   name             party  ct_ratio  js_ratio  \\\n",
       "8                         Lord Teverson  Liberal Democrat  0.977273  2.909091   \n",
       "25            Baroness Smith of Newnham  Liberal Democrat  0.359375  0.400000   \n",
       "35       Baroness Falkner of Margravine  Liberal Democrat  0.948718  0.875000   \n",
       "10  Baroness Miller of Chilthorne Domer  Liberal Democrat  1.250000  1.857143   \n",
       "68          Lord Campbell of Pittenweem  Liberal Democrat  0.280000  0.888889   \n",
       "19                         Lord Shipley  Liberal Democrat  1.647059  0.888889   \n",
       "2              Lord Wallace of Saltaire  Liberal Democrat  0.660714  1.125000   \n",
       "55                     Baroness Ludford  Liberal Democrat  1.056911  0.674419   \n",
       "\n",
       "      simple  code  \n",
       "8   0.629307     3  \n",
       "25  0.596356     3  \n",
       "35  0.560322     3  \n",
       "10  0.487280     3  \n",
       "68  0.465892     3  \n",
       "19  0.331030     3  \n",
       "2   0.324561     3  \n",
       "55  0.282158     3  "
      ]
     },
     "execution_count": 874,
     "metadata": {},
     "output_type": "execute_result"
    }
   ],
   "source": [
    "df3[df3.party == 'Liberal Democrat'].sort_values(by = 'simple', ascending = False).head(5)"
   ]
  },
  {
   "cell_type": "code",
   "execution_count": 60,
   "metadata": {
    "collapsed": false,
    "scrolled": true
   },
   "outputs": [
    {
     "data": {
      "text/html": [
       "<div>\n",
       "<style scoped>\n",
       "    .dataframe tbody tr th:only-of-type {\n",
       "        vertical-align: middle;\n",
       "    }\n",
       "\n",
       "    .dataframe tbody tr th {\n",
       "        vertical-align: top;\n",
       "    }\n",
       "\n",
       "    .dataframe thead th {\n",
       "        text-align: right;\n",
       "    }\n",
       "</style>\n",
       "<table border=\"1\" class=\"dataframe\">\n",
       "  <thead>\n",
       "    <tr style=\"text-align: right;\">\n",
       "      <th></th>\n",
       "      <th>name</th>\n",
       "      <th>party</th>\n",
       "      <th>ct_ratio</th>\n",
       "      <th>js_ratio</th>\n",
       "      <th>simple</th>\n",
       "      <th>code</th>\n",
       "    </tr>\n",
       "  </thead>\n",
       "  <tbody>\n",
       "    <tr>\n",
       "      <th>15</th>\n",
       "      <td>Lord Ahmad of Wimbledon</td>\n",
       "      <td>Conservative</td>\n",
       "      <td>3.000000</td>\n",
       "      <td>4.500000</td>\n",
       "      <td>0.868693</td>\n",
       "      <td>0</td>\n",
       "    </tr>\n",
       "    <tr>\n",
       "      <th>54</th>\n",
       "      <td>Lord Gardiner of Kimble</td>\n",
       "      <td>Conservative</td>\n",
       "      <td>8.333333</td>\n",
       "      <td>6.125000</td>\n",
       "      <td>0.863342</td>\n",
       "      <td>0</td>\n",
       "    </tr>\n",
       "    <tr>\n",
       "      <th>43</th>\n",
       "      <td>Baroness Goldie</td>\n",
       "      <td>Conservative</td>\n",
       "      <td>3.640000</td>\n",
       "      <td>2.666667</td>\n",
       "      <td>0.835838</td>\n",
       "      <td>0</td>\n",
       "    </tr>\n",
       "    <tr>\n",
       "      <th>53</th>\n",
       "      <td>Lord Henley</td>\n",
       "      <td>Conservative</td>\n",
       "      <td>4.000000</td>\n",
       "      <td>10.666667</td>\n",
       "      <td>0.828196</td>\n",
       "      <td>0</td>\n",
       "    </tr>\n",
       "    <tr>\n",
       "      <th>37</th>\n",
       "      <td>Viscount Younger of Leckie</td>\n",
       "      <td>Conservative</td>\n",
       "      <td>1.833333</td>\n",
       "      <td>9.333333</td>\n",
       "      <td>0.786789</td>\n",
       "      <td>0</td>\n",
       "    </tr>\n",
       "    <tr>\n",
       "      <th>66</th>\n",
       "      <td>Baroness Neville-Rolfe</td>\n",
       "      <td>Conservative</td>\n",
       "      <td>2.133333</td>\n",
       "      <td>25.000000</td>\n",
       "      <td>0.784395</td>\n",
       "      <td>0</td>\n",
       "    </tr>\n",
       "    <tr>\n",
       "      <th>65</th>\n",
       "      <td>Lord O'Shaughnessy</td>\n",
       "      <td>Conservative</td>\n",
       "      <td>2.041667</td>\n",
       "      <td>2.416667</td>\n",
       "      <td>0.754251</td>\n",
       "      <td>0</td>\n",
       "    </tr>\n",
       "    <tr>\n",
       "      <th>4</th>\n",
       "      <td>Baroness Anelay of St Johns</td>\n",
       "      <td>Conservative</td>\n",
       "      <td>3.038462</td>\n",
       "      <td>4.875000</td>\n",
       "      <td>0.754193</td>\n",
       "      <td>0</td>\n",
       "    </tr>\n",
       "    <tr>\n",
       "      <th>33</th>\n",
       "      <td>Baroness Evans of Bowes Park</td>\n",
       "      <td>Conservative</td>\n",
       "      <td>4.111111</td>\n",
       "      <td>3.000000</td>\n",
       "      <td>0.743087</td>\n",
       "      <td>0</td>\n",
       "    </tr>\n",
       "    <tr>\n",
       "      <th>19</th>\n",
       "      <td>Lord Ashton of Hyde</td>\n",
       "      <td>Conservative</td>\n",
       "      <td>5.714286</td>\n",
       "      <td>18.000000</td>\n",
       "      <td>0.729378</td>\n",
       "      <td>0</td>\n",
       "    </tr>\n",
       "    <tr>\n",
       "      <th>13</th>\n",
       "      <td>Lord Cormack</td>\n",
       "      <td>Conservative</td>\n",
       "      <td>1.450000</td>\n",
       "      <td>1.666667</td>\n",
       "      <td>0.729062</td>\n",
       "      <td>0</td>\n",
       "    </tr>\n",
       "    <tr>\n",
       "      <th>23</th>\n",
       "      <td>Lord Young of Cookham</td>\n",
       "      <td>Conservative</td>\n",
       "      <td>1.437500</td>\n",
       "      <td>1.600000</td>\n",
       "      <td>0.721489</td>\n",
       "      <td>0</td>\n",
       "    </tr>\n",
       "  </tbody>\n",
       "</table>\n",
       "</div>"
      ],
      "text/plain": [
       "                            name         party  ct_ratio   js_ratio    simple  \\\n",
       "15       Lord Ahmad of Wimbledon  Conservative  3.000000   4.500000  0.868693   \n",
       "54       Lord Gardiner of Kimble  Conservative  8.333333   6.125000  0.863342   \n",
       "43               Baroness Goldie  Conservative  3.640000   2.666667  0.835838   \n",
       "53                   Lord Henley  Conservative  4.000000  10.666667  0.828196   \n",
       "37    Viscount Younger of Leckie  Conservative  1.833333   9.333333  0.786789   \n",
       "66        Baroness Neville-Rolfe  Conservative  2.133333  25.000000  0.784395   \n",
       "65            Lord O'Shaughnessy  Conservative  2.041667   2.416667  0.754251   \n",
       "4    Baroness Anelay of St Johns  Conservative  3.038462   4.875000  0.754193   \n",
       "33  Baroness Evans of Bowes Park  Conservative  4.111111   3.000000  0.743087   \n",
       "19           Lord Ashton of Hyde  Conservative  5.714286  18.000000  0.729378   \n",
       "13                  Lord Cormack  Conservative  1.450000   1.666667  0.729062   \n",
       "23         Lord Young of Cookham  Conservative  1.437500   1.600000  0.721489   \n",
       "\n",
       "    code  \n",
       "15     0  \n",
       "54     0  \n",
       "43     0  \n",
       "53     0  \n",
       "37     0  \n",
       "66     0  \n",
       "65     0  \n",
       "4      0  \n",
       "33     0  \n",
       "19     0  \n",
       "13     0  \n",
       "23     0  "
      ]
     },
     "execution_count": 60,
     "metadata": {},
     "output_type": "execute_result"
    }
   ],
   "source": [
    "df3[df3.party == 'Conservative'].sort_values(by = 'simple', ascending = False).head(12)"
   ]
  },
  {
   "cell_type": "markdown",
   "metadata": {},
   "source": [
    "Możemy zauważyć, że wśród konserwatystów najwyższe znalezione wartości dla średniego sentymentu są dużo wyższe niż dla pozostałych grup. Wszystkie parametry mają wysokie wartości dla pierwszych 10 polityków z listy, możemy wnioskować, że są to najwięksi \"entuzjaści\" Brexitu."
   ]
  },
  {
   "cell_type": "markdown",
   "metadata": {
    "collapsed": true
   },
   "source": [
    "## 3. Wnioski"
   ]
  },
  {
   "cell_type": "markdown",
   "metadata": {
    "collapsed": true
   },
   "source": [
    "Politycy Partii Konserwatywnej są grupą najbardziej entuzjastyczną wobec Brexitu. Od roku 2017 średnia wartość sentymentu spada w każdej z 4 głównych grup politycznych. Znaleziono polityków odstających od linii partii mierząc 3 parametry: liczbę wypowiedzi z wesołym tonem do liczby wypowiedzi z tonem smutnym, liczbę wypowiedzi z pewnym tonem do liczby wypowiedzi z tonem niepewnym i średnią watość sentymentu,"
   ]
  },
  {
   "cell_type": "code",
   "execution_count": null,
   "metadata": {
    "collapsed": true
   },
   "outputs": [],
   "source": []
  }
 ],
 "metadata": {
  "kernelspec": {
   "display_name": "Python 3",
   "language": "python",
   "name": "python3"
  },
  "language_info": {
   "codemirror_mode": {
    "name": "ipython",
    "version": 3
   },
   "file_extension": ".py",
   "mimetype": "text/x-python",
   "name": "python",
   "nbconvert_exporter": "python",
   "pygments_lexer": "ipython3",
   "version": "3.5.3"
  }
 },
 "nbformat": 4,
 "nbformat_minor": 2
}
